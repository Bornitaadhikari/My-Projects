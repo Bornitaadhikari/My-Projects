{
  "nbformat": 4,
  "nbformat_minor": 0,
  "metadata": {
    "colab": {
      "name": "BPL DATA ANALYSIS  PROJECT",
      "provenance": [],
      "collapsed_sections": [],
      "authorship_tag": "ABX9TyOu6qCIvrACxbPB0vO9Gzqb",
      "include_colab_link": true
    },
    "kernelspec": {
      "name": "python3",
      "display_name": "Python 3"
    },
    "language_info": {
      "name": "python"
    }
  },
  "cells": [
    {
      "cell_type": "markdown",
      "metadata": {
        "id": "view-in-github",
        "colab_type": "text"
      },
      "source": [
        "<a href=\"https://colab.research.google.com/github/Bornitaadhikari/My-Projects/blob/main/BPL_DATA_ANALYSIS_PROJECT.ipynb\" target=\"_parent\"><img src=\"https://colab.research.google.com/assets/colab-badge.svg\" alt=\"Open In Colab\"/></a>"
      ]
    },
    {
      "cell_type": "code",
      "metadata": {
        "id": "3zEaPAdpg4kR"
      },
      "source": [
        "# Code to read csv file into colaboratory:\n",
        "!pip install -U -q PyDrive\n",
        "from pydrive.auth import GoogleAuth\n",
        "from pydrive.drive import GoogleDrive\n",
        "from google.colab import auth\n",
        "from oauth2client.client import GoogleCredentials"
      ],
      "execution_count": null,
      "outputs": []
    },
    {
      "cell_type": "code",
      "metadata": {
        "id": "XfPPY8B2hZy-"
      },
      "source": [
        "auth.authenticate_user()\n",
        "gauth = GoogleAuth()\n",
        "gauth.credentials = GoogleCredentials.get_application_default()\n",
        "drive = GoogleDrive(gauth)"
      ],
      "execution_count": null,
      "outputs": []
    },
    {
      "cell_type": "code",
      "metadata": {
        "id": "PhnDwMvThoi9"
      },
      "source": [
        "#2.1 Get the file\n",
        "downloaded = drive.CreateFile({'id':'15YpARiNxayiIwpffWtYDnoU1eQII2nPF'}) # replace the id with id of file you want to access\n",
        "downloaded.GetContentFile('BPL Data set.csv')"
      ],
      "execution_count": null,
      "outputs": []
    },
    {
      "cell_type": "code",
      "metadata": {
        "colab": {
          "base_uri": "https://localhost:8080/"
        },
        "id": "0GWYrgyyh6Li",
        "outputId": "c9356c17-1be1-42a9-fbda-c4aad8823da4"
      },
      "source": [
        "\n",
        "#3.1 Read file as panda dataframe\n",
        "import pandas as pd\n",
        "xyz = pd.read_csv('BPL Data set.csv') \n",
        "print(xyz.head(1))"
      ],
      "execution_count": null,
      "outputs": [
        {
          "output_type": "stream",
          "name": "stdout",
          "text": [
            "   ID  season   city  ... umpire1 umpire2 umpire3\n",
            "0   1    2020  Dhaka  ...     NaN     NaN     NaN\n",
            "\n",
            "[1 rows x 18 columns]\n"
          ]
        }
      ]
    },
    {
      "cell_type": "code",
      "metadata": {
        "id": "DjWaV3ZmiLlm"
      },
      "source": [
        "import pandas as pd\n",
        "import numpy as np\n",
        "import seaborn as sns\n",
        "import matplotlib.pyplot as plt"
      ],
      "execution_count": null,
      "outputs": []
    },
    {
      "cell_type": "code",
      "metadata": {
        "id": "zgIV7aJpiQld"
      },
      "source": [
        "BPL_df = pd.read_csv('BPL Data set.csv')"
      ],
      "execution_count": null,
      "outputs": []
    },
    {
      "cell_type": "code",
      "metadata": {
        "colab": {
          "base_uri": "https://localhost:8080/"
        },
        "id": "oLpqiI0AicIP",
        "outputId": "0dd21a35-6b83-46ab-928d-44a73284b7a2"
      },
      "source": [
        "BPL_df.info()"
      ],
      "execution_count": null,
      "outputs": [
        {
          "output_type": "stream",
          "name": "stdout",
          "text": [
            "<class 'pandas.core.frame.DataFrame'>\n",
            "RangeIndex: 89 entries, 0 to 88\n",
            "Data columns (total 18 columns):\n",
            " #   Column           Non-Null Count  Dtype  \n",
            "---  ------           --------------  -----  \n",
            " 0   ID               89 non-null     int64  \n",
            " 1   season           89 non-null     int64  \n",
            " 2   city             89 non-null     object \n",
            " 3   date             89 non-null     object \n",
            " 4   team1            89 non-null     object \n",
            " 5   team2            89 non-null     object \n",
            " 6   toss_winner      89 non-null     object \n",
            " 7   toss_decision    89 non-null     object \n",
            " 8   result           89 non-null     object \n",
            " 9   dl_applied       89 non-null     int64  \n",
            " 10  winner           89 non-null     object \n",
            " 11  win_by_runs      88 non-null     float64\n",
            " 12  win_by_wickets   87 non-null     float64\n",
            " 13  player_of_match  88 non-null     object \n",
            " 14  venue            89 non-null     object \n",
            " 15  umpire1          0 non-null      float64\n",
            " 16  umpire2          0 non-null      float64\n",
            " 17  umpire3          0 non-null      float64\n",
            "dtypes: float64(5), int64(3), object(10)\n",
            "memory usage: 12.6+ KB\n"
          ]
        }
      ]
    },
    {
      "cell_type": "code",
      "metadata": {
        "colab": {
          "base_uri": "https://localhost:8080/"
        },
        "id": "XRivzo-BigM6",
        "outputId": "7a831726-d646-4739-8ad3-395e579c6369"
      },
      "source": [
        "BPL_df.shape"
      ],
      "execution_count": null,
      "outputs": [
        {
          "output_type": "execute_result",
          "data": {
            "text/plain": [
              "(89, 18)"
            ]
          },
          "metadata": {},
          "execution_count": 9
        }
      ]
    },
    {
      "cell_type": "code",
      "metadata": {
        "colab": {
          "base_uri": "https://localhost:8080/",
          "height": 1000
        },
        "id": "6tuUlzLCipyO",
        "outputId": "bf600442-7d1f-4ca1-fc2d-b7c4ee56d4a6"
      },
      "source": [
        "BPL_df"
      ],
      "execution_count": null,
      "outputs": [
        {
          "output_type": "execute_result",
          "data": {
            "text/html": [
              "<div>\n",
              "<style scoped>\n",
              "    .dataframe tbody tr th:only-of-type {\n",
              "        vertical-align: middle;\n",
              "    }\n",
              "\n",
              "    .dataframe tbody tr th {\n",
              "        vertical-align: top;\n",
              "    }\n",
              "\n",
              "    .dataframe thead th {\n",
              "        text-align: right;\n",
              "    }\n",
              "</style>\n",
              "<table border=\"1\" class=\"dataframe\">\n",
              "  <thead>\n",
              "    <tr style=\"text-align: right;\">\n",
              "      <th></th>\n",
              "      <th>ID</th>\n",
              "      <th>season</th>\n",
              "      <th>city</th>\n",
              "      <th>date</th>\n",
              "      <th>team1</th>\n",
              "      <th>team2</th>\n",
              "      <th>toss_winner</th>\n",
              "      <th>toss_decision</th>\n",
              "      <th>result</th>\n",
              "      <th>dl_applied</th>\n",
              "      <th>winner</th>\n",
              "      <th>win_by_runs</th>\n",
              "      <th>win_by_wickets</th>\n",
              "      <th>player_of_match</th>\n",
              "      <th>venue</th>\n",
              "      <th>umpire1</th>\n",
              "      <th>umpire2</th>\n",
              "      <th>umpire3</th>\n",
              "    </tr>\n",
              "  </thead>\n",
              "  <tbody>\n",
              "    <tr>\n",
              "      <th>0</th>\n",
              "      <td>1</td>\n",
              "      <td>2020</td>\n",
              "      <td>Dhaka</td>\n",
              "      <td>11/12/2019</td>\n",
              "      <td>Sylhet Thunder</td>\n",
              "      <td>Chattogram Challengers</td>\n",
              "      <td>Chattogram Challengers</td>\n",
              "      <td>Field</td>\n",
              "      <td>Normal</td>\n",
              "      <td>0</td>\n",
              "      <td>Chattogram Challengers</td>\n",
              "      <td>0.0</td>\n",
              "      <td>5.0</td>\n",
              "      <td>Imrul Kayes</td>\n",
              "      <td>Sher-e-Bangla National Cricket</td>\n",
              "      <td>NaN</td>\n",
              "      <td>NaN</td>\n",
              "      <td>NaN</td>\n",
              "    </tr>\n",
              "    <tr>\n",
              "      <th>1</th>\n",
              "      <td>2</td>\n",
              "      <td>2020</td>\n",
              "      <td>Dhaka</td>\n",
              "      <td>11/12/2019</td>\n",
              "      <td>Cumilla Warriors</td>\n",
              "      <td>Rangpur Riders</td>\n",
              "      <td>Cumilla Warriors</td>\n",
              "      <td>Bat</td>\n",
              "      <td>Normal</td>\n",
              "      <td>0</td>\n",
              "      <td>Cumilla Warriors</td>\n",
              "      <td>105.0</td>\n",
              "      <td>0.0</td>\n",
              "      <td>Dasun Shanaka</td>\n",
              "      <td>Sher-e-Bangla National Cricket</td>\n",
              "      <td>NaN</td>\n",
              "      <td>NaN</td>\n",
              "      <td>NaN</td>\n",
              "    </tr>\n",
              "    <tr>\n",
              "      <th>2</th>\n",
              "      <td>3</td>\n",
              "      <td>2020</td>\n",
              "      <td>Dhaka</td>\n",
              "      <td>12/12/2019</td>\n",
              "      <td>Dhaka Platoon</td>\n",
              "      <td>Rajshahi Royales</td>\n",
              "      <td>Rajshahi Royales</td>\n",
              "      <td>Field</td>\n",
              "      <td>Normal</td>\n",
              "      <td>0</td>\n",
              "      <td>Rajshahi Royales</td>\n",
              "      <td>0.0</td>\n",
              "      <td>9.0</td>\n",
              "      <td>Ravi Bopara</td>\n",
              "      <td>Sher-e-Bangla National Cricket</td>\n",
              "      <td>NaN</td>\n",
              "      <td>NaN</td>\n",
              "      <td>NaN</td>\n",
              "    </tr>\n",
              "    <tr>\n",
              "      <th>3</th>\n",
              "      <td>4</td>\n",
              "      <td>2020</td>\n",
              "      <td>Dhaka</td>\n",
              "      <td>12/12/2019</td>\n",
              "      <td>Chattogram Challengers</td>\n",
              "      <td>Khulna Tighers</td>\n",
              "      <td>Khulna Tighers</td>\n",
              "      <td>Field</td>\n",
              "      <td>Normal</td>\n",
              "      <td>0</td>\n",
              "      <td>Khulna Tighers</td>\n",
              "      <td>0.0</td>\n",
              "      <td>8.0</td>\n",
              "      <td>Rilee Rossouw</td>\n",
              "      <td>Sher-e-Bangla National Cricket</td>\n",
              "      <td>NaN</td>\n",
              "      <td>NaN</td>\n",
              "      <td>NaN</td>\n",
              "    </tr>\n",
              "    <tr>\n",
              "      <th>4</th>\n",
              "      <td>5</td>\n",
              "      <td>2020</td>\n",
              "      <td>Dhaka</td>\n",
              "      <td>13/12/2019</td>\n",
              "      <td>Sylhet Thunder</td>\n",
              "      <td>Anamul Haque</td>\n",
              "      <td>Rajshahi Royales</td>\n",
              "      <td>Field</td>\n",
              "      <td>Normal</td>\n",
              "      <td>0</td>\n",
              "      <td>Rajshahi Royales</td>\n",
              "      <td>0.0</td>\n",
              "      <td>5.0</td>\n",
              "      <td>Alok Kapali</td>\n",
              "      <td>Sher-e-Bangla National Cricket</td>\n",
              "      <td>NaN</td>\n",
              "      <td>NaN</td>\n",
              "      <td>NaN</td>\n",
              "    </tr>\n",
              "    <tr>\n",
              "      <th>...</th>\n",
              "      <td>...</td>\n",
              "      <td>...</td>\n",
              "      <td>...</td>\n",
              "      <td>...</td>\n",
              "      <td>...</td>\n",
              "      <td>...</td>\n",
              "      <td>...</td>\n",
              "      <td>...</td>\n",
              "      <td>...</td>\n",
              "      <td>...</td>\n",
              "      <td>...</td>\n",
              "      <td>...</td>\n",
              "      <td>...</td>\n",
              "      <td>...</td>\n",
              "      <td>...</td>\n",
              "      <td>...</td>\n",
              "      <td>...</td>\n",
              "      <td>...</td>\n",
              "    </tr>\n",
              "    <tr>\n",
              "      <th>84</th>\n",
              "      <td>85</td>\n",
              "      <td>2016</td>\n",
              "      <td>Chattogram</td>\n",
              "      <td>19 Nov,2016</td>\n",
              "      <td>DHAKA DYNAMITES</td>\n",
              "      <td>KHULNA TITANS</td>\n",
              "      <td>Khulna Titans</td>\n",
              "      <td>Bat</td>\n",
              "      <td>Normal</td>\n",
              "      <td>0</td>\n",
              "      <td>KHULNA TITANS</td>\n",
              "      <td>9.0</td>\n",
              "      <td>0.0</td>\n",
              "      <td>Mosharraf Hossain</td>\n",
              "      <td>Zahur Ahmed Chowdhury Stadium, Chattogram</td>\n",
              "      <td>NaN</td>\n",
              "      <td>NaN</td>\n",
              "      <td>NaN</td>\n",
              "    </tr>\n",
              "    <tr>\n",
              "      <th>85</th>\n",
              "      <td>86</td>\n",
              "      <td>2016</td>\n",
              "      <td>Dhaka</td>\n",
              "      <td>6 Dec,2016</td>\n",
              "      <td>CHITTAGONG VIKINGS</td>\n",
              "      <td>RAJSHAHI KINGS</td>\n",
              "      <td>Rajshahi Kings</td>\n",
              "      <td>Field</td>\n",
              "      <td>Normal</td>\n",
              "      <td>0</td>\n",
              "      <td>RAJSHAHI KINGS</td>\n",
              "      <td>0.0</td>\n",
              "      <td>3.0</td>\n",
              "      <td>Daren Sammy</td>\n",
              "      <td>Shere Bangla National Stadium, Dhaka</td>\n",
              "      <td>NaN</td>\n",
              "      <td>NaN</td>\n",
              "      <td>NaN</td>\n",
              "    </tr>\n",
              "    <tr>\n",
              "      <th>86</th>\n",
              "      <td>87</td>\n",
              "      <td>2016</td>\n",
              "      <td>Dhaka</td>\n",
              "      <td>6 Dec,2016</td>\n",
              "      <td>DHAKA DYNAMITES</td>\n",
              "      <td>KHULNA TITANS</td>\n",
              "      <td>Khulna Titans</td>\n",
              "      <td>Field</td>\n",
              "      <td>Normal</td>\n",
              "      <td>0</td>\n",
              "      <td>DHAKA DYNAMITES</td>\n",
              "      <td>54.0</td>\n",
              "      <td>0.0</td>\n",
              "      <td>Andre Russell</td>\n",
              "      <td>Sher-e Bangla National Stadium, Dhaka</td>\n",
              "      <td>NaN</td>\n",
              "      <td>NaN</td>\n",
              "      <td>NaN</td>\n",
              "    </tr>\n",
              "    <tr>\n",
              "      <th>87</th>\n",
              "      <td>88</td>\n",
              "      <td>2016</td>\n",
              "      <td>Dhaka</td>\n",
              "      <td>7 Dec,2016</td>\n",
              "      <td>KHULNA TITANS</td>\n",
              "      <td>RAJSHAHI KINGS</td>\n",
              "      <td>Khulna Titans</td>\n",
              "      <td>Bat</td>\n",
              "      <td>Normal</td>\n",
              "      <td>0</td>\n",
              "      <td>RAJSHAHI KINGS</td>\n",
              "      <td>0.0</td>\n",
              "      <td>7.0</td>\n",
              "      <td>Samit Patel</td>\n",
              "      <td>Sher-e Bangla National Stadium, Dhaka</td>\n",
              "      <td>NaN</td>\n",
              "      <td>NaN</td>\n",
              "      <td>NaN</td>\n",
              "    </tr>\n",
              "    <tr>\n",
              "      <th>88</th>\n",
              "      <td>89</td>\n",
              "      <td>2016</td>\n",
              "      <td>Dhaka</td>\n",
              "      <td>9 Nov,2016</td>\n",
              "      <td>DHAKA DYNAMITES</td>\n",
              "      <td>RAJSHAHI KINGS</td>\n",
              "      <td>Rajshahi Kings</td>\n",
              "      <td>Field</td>\n",
              "      <td>Normal</td>\n",
              "      <td>0</td>\n",
              "      <td>DHAKA DYNAMITES</td>\n",
              "      <td>56.0</td>\n",
              "      <td>0.0</td>\n",
              "      <td>Mahmudullah</td>\n",
              "      <td>Sher-e Bangla National Stadium, Dhaka</td>\n",
              "      <td>NaN</td>\n",
              "      <td>NaN</td>\n",
              "      <td>NaN</td>\n",
              "    </tr>\n",
              "  </tbody>\n",
              "</table>\n",
              "<p>89 rows × 18 columns</p>\n",
              "</div>"
            ],
            "text/plain": [
              "    ID  season        city  ... umpire1 umpire2 umpire3\n",
              "0    1    2020       Dhaka  ...     NaN     NaN     NaN\n",
              "1    2    2020       Dhaka  ...     NaN     NaN     NaN\n",
              "2    3    2020       Dhaka  ...     NaN     NaN     NaN\n",
              "3    4    2020       Dhaka  ...     NaN     NaN     NaN\n",
              "4    5    2020       Dhaka  ...     NaN     NaN     NaN\n",
              "..  ..     ...         ...  ...     ...     ...     ...\n",
              "84  85    2016  Chattogram  ...     NaN     NaN     NaN\n",
              "85  86    2016       Dhaka  ...     NaN     NaN     NaN\n",
              "86  87    2016       Dhaka  ...     NaN     NaN     NaN\n",
              "87  88    2016       Dhaka  ...     NaN     NaN     NaN\n",
              "88  89    2016       Dhaka  ...     NaN     NaN     NaN\n",
              "\n",
              "[89 rows x 18 columns]"
            ]
          },
          "metadata": {},
          "execution_count": 10
        }
      ]
    },
    {
      "cell_type": "code",
      "metadata": {
        "id": "N0Bq_Szriu7t"
      },
      "source": [
        "#inplace argument is used to make permanent changes in the dataframe\n",
        "BPL_df.drop(columns=['umpire1','umpire2','umpire3'],inplace=True)"
      ],
      "execution_count": null,
      "outputs": []
    },
    {
      "cell_type": "code",
      "metadata": {
        "colab": {
          "base_uri": "https://localhost:8080/"
        },
        "id": "l5Z3Jcrcizvs",
        "outputId": "0795e559-0ff8-4d0d-c127-8a4ba76613ae"
      },
      "source": [
        "# Exploring all column names in the data frame\n",
        "BPL_df.columns"
      ],
      "execution_count": null,
      "outputs": [
        {
          "output_type": "execute_result",
          "data": {
            "text/plain": [
              "Index(['ID', 'season', 'city', 'date', 'team1', 'team2', 'toss_winner',\n",
              "       'toss_decision', 'result', 'dl_applied', 'winner', 'win_by_runs',\n",
              "       'win_by_wickets', 'player_of_match', 'venue'],\n",
              "      dtype='object')"
            ]
          },
          "metadata": {},
          "execution_count": 12
        }
      ]
    },
    {
      "cell_type": "code",
      "metadata": {
        "colab": {
          "base_uri": "https://localhost:8080/"
        },
        "id": "6vQPUQw1i3fy",
        "outputId": "c0fbe72e-11fb-4819-c1a3-c3eca97b26a5"
      },
      "source": [
        "# Now lets seasons data we have in our dataframe\n",
        "# we use .unique() method to list the unique items from the selected column\n",
        "BPL_df.season.unique()"
      ],
      "execution_count": null,
      "outputs": [
        {
          "output_type": "execute_result",
          "data": {
            "text/plain": [
              "array([2020, 2019, 2018, 2017, 2016])"
            ]
          },
          "metadata": {},
          "execution_count": 13
        }
      ]
    },
    {
      "cell_type": "code",
      "metadata": {
        "colab": {
          "base_uri": "https://localhost:8080/"
        },
        "id": "HLZPOjHWi63d",
        "outputId": "969ce475-a86c-4cdb-cc56-a74002822389"
      },
      "source": [
        "# Now Lets see all the teams that have played so far\n",
        "BPL_df.team1.unique()"
      ],
      "execution_count": null,
      "outputs": [
        {
          "output_type": "execute_result",
          "data": {
            "text/plain": [
              "array(['Sylhet Thunder', 'Cumilla Warriors', 'Dhaka Platoon',\n",
              "       'Chattogram Challengers', 'Rangpur Riders', 'Rajshahi Royales',\n",
              "       'Khulna Tighers', 'Dhaka Platoons', 'Rajshahi Royals',\n",
              "       'Khulna Tigers', 'Comilla Warriors', 'Rangpur Rangers',\n",
              "       'Comilla Victorians', 'Sylhet Sixers', 'Dhaka Dynamites',\n",
              "       'Khulna Titans', 'Rajshahi Kings', 'Chittagong Vikings',\n",
              "       'SYLHET SIXERS', 'KHULNA TITANS', 'RANGPUR RIDERS',\n",
              "       'COMILLA VICTORIANS', 'DHAKA DYNAMITES', 'CHITTAGONG VIKINGS',\n",
              "       'BARISAL BULLS'], dtype=object)"
            ]
          },
          "metadata": {},
          "execution_count": 14
        }
      ]
    },
    {
      "cell_type": "code",
      "metadata": {
        "colab": {
          "base_uri": "https://localhost:8080/"
        },
        "id": "ZTjj6oUii_5H",
        "outputId": "7a003fe5-5610-4d93-96dd-018819da6e9a"
      },
      "source": [
        "BPL_df.city.unique()"
      ],
      "execution_count": null,
      "outputs": [
        {
          "output_type": "execute_result",
          "data": {
            "text/plain": [
              "array(['Dhaka', 'Chattogram', 'Sylhet'], dtype=object)"
            ]
          },
          "metadata": {},
          "execution_count": 15
        }
      ]
    },
    {
      "cell_type": "code",
      "metadata": {
        "colab": {
          "base_uri": "https://localhost:8080/"
        },
        "id": "9NUYO3NOjEcp",
        "outputId": "d2b8ca6a-2446-425a-8e52-34528c18f05b"
      },
      "source": [
        "BPL_df.team1.unique()"
      ],
      "execution_count": null,
      "outputs": [
        {
          "output_type": "execute_result",
          "data": {
            "text/plain": [
              "array(['Sylhet Thunder', 'Cumilla Warriors', 'Dhaka Platoon',\n",
              "       'Chattogram Challengers', 'Rangpur Riders', 'Rajshahi Royales',\n",
              "       'Khulna Tighers', 'Dhaka Platoons', 'Rajshahi Royals',\n",
              "       'Khulna Tigers', 'Comilla Warriors', 'Rangpur Rangers',\n",
              "       'Comilla Victorians', 'Sylhet Sixers', 'Dhaka Dynamites',\n",
              "       'Khulna Titans', 'Rajshahi Kings', 'Chittagong Vikings',\n",
              "       'SYLHET SIXERS', 'KHULNA TITANS', 'RANGPUR RIDERS',\n",
              "       'COMILLA VICTORIANS', 'DHAKA DYNAMITES', 'CHITTAGONG VIKINGS',\n",
              "       'BARISAL BULLS'], dtype=object)"
            ]
          },
          "metadata": {},
          "execution_count": 16
        }
      ]
    },
    {
      "cell_type": "code",
      "metadata": {
        "colab": {
          "base_uri": "https://localhost:8080/"
        },
        "id": "vO_fLRz5jQKx",
        "outputId": "16c0e65d-ca00-4d5d-9f53-a210a380f4a0"
      },
      "source": [
        "BPL_df.city.unique()"
      ],
      "execution_count": null,
      "outputs": [
        {
          "output_type": "execute_result",
          "data": {
            "text/plain": [
              "array(['Dhaka', 'Chattogram', 'Sylhet'], dtype=object)"
            ]
          },
          "metadata": {},
          "execution_count": 17
        }
      ]
    },
    {
      "cell_type": "code",
      "metadata": {
        "colab": {
          "base_uri": "https://localhost:8080/"
        },
        "id": "pS4GtxQZjXI-",
        "outputId": "eb4d89f7-0302-419a-99be-c54d6e2bcdad"
      },
      "source": [
        "# we can use .isnull() to set Null values to True and then use .sum() to calculate all the null values\n",
        "BPL_df.isnull().sum().sum()"
      ],
      "execution_count": null,
      "outputs": [
        {
          "output_type": "execute_result",
          "data": {
            "text/plain": [
              "4"
            ]
          },
          "metadata": {},
          "execution_count": 18
        }
      ]
    },
    {
      "cell_type": "code",
      "metadata": {
        "id": "bOQakJiZjhBG"
      },
      "source": [
        "null_df = BPL_df[BPL_df.isna().any(axis=1)]"
      ],
      "execution_count": null,
      "outputs": []
    },
    {
      "cell_type": "code",
      "metadata": {
        "colab": {
          "base_uri": "https://localhost:8080/",
          "height": 245
        },
        "id": "gGBM3ud3jqr2",
        "outputId": "c6e99c66-e5e9-4398-df09-16e43569a6c0"
      },
      "source": [
        "null_df"
      ],
      "execution_count": null,
      "outputs": [
        {
          "output_type": "execute_result",
          "data": {
            "text/html": [
              "<div>\n",
              "<style scoped>\n",
              "    .dataframe tbody tr th:only-of-type {\n",
              "        vertical-align: middle;\n",
              "    }\n",
              "\n",
              "    .dataframe tbody tr th {\n",
              "        vertical-align: top;\n",
              "    }\n",
              "\n",
              "    .dataframe thead th {\n",
              "        text-align: right;\n",
              "    }\n",
              "</style>\n",
              "<table border=\"1\" class=\"dataframe\">\n",
              "  <thead>\n",
              "    <tr style=\"text-align: right;\">\n",
              "      <th></th>\n",
              "      <th>ID</th>\n",
              "      <th>season</th>\n",
              "      <th>city</th>\n",
              "      <th>date</th>\n",
              "      <th>team1</th>\n",
              "      <th>team2</th>\n",
              "      <th>toss_winner</th>\n",
              "      <th>toss_decision</th>\n",
              "      <th>result</th>\n",
              "      <th>dl_applied</th>\n",
              "      <th>winner</th>\n",
              "      <th>win_by_runs</th>\n",
              "      <th>win_by_wickets</th>\n",
              "      <th>player_of_match</th>\n",
              "      <th>venue</th>\n",
              "    </tr>\n",
              "  </thead>\n",
              "  <tbody>\n",
              "    <tr>\n",
              "      <th>30</th>\n",
              "      <td>31</td>\n",
              "      <td>2019</td>\n",
              "      <td>Dhaka</td>\n",
              "      <td>Dec 11,2019</td>\n",
              "      <td>Chattogram Challengers</td>\n",
              "      <td>Sylhet Thunder</td>\n",
              "      <td>Chattogram Challengers</td>\n",
              "      <td>Field</td>\n",
              "      <td>Normal</td>\n",
              "      <td>0</td>\n",
              "      <td>Chattogram Challengers</td>\n",
              "      <td>0.0</td>\n",
              "      <td>NaN</td>\n",
              "      <td>Imrul Kayes</td>\n",
              "      <td>Shere Bangla National Stadium</td>\n",
              "    </tr>\n",
              "    <tr>\n",
              "      <th>37</th>\n",
              "      <td>38</td>\n",
              "      <td>2019</td>\n",
              "      <td>Chattogram</td>\n",
              "      <td>Dec 21,2019</td>\n",
              "      <td>Khulna Tigers</td>\n",
              "      <td>Sylhet Thunder</td>\n",
              "      <td>Khulna Tigers</td>\n",
              "      <td>Field</td>\n",
              "      <td>Normal</td>\n",
              "      <td>0</td>\n",
              "      <td>Sylhet Thunder</td>\n",
              "      <td>80.0</td>\n",
              "      <td>NaN</td>\n",
              "      <td>Andre Fletcher</td>\n",
              "      <td>Zahur Ahmed Chowdhury Stadium</td>\n",
              "    </tr>\n",
              "    <tr>\n",
              "      <th>59</th>\n",
              "      <td>60</td>\n",
              "      <td>2017</td>\n",
              "      <td>Sylhet</td>\n",
              "      <td>4 Nov,2017</td>\n",
              "      <td>SYLHET SIXERS</td>\n",
              "      <td>DHAKA DYNAMITES</td>\n",
              "      <td>Sylhet Sixers</td>\n",
              "      <td>Field</td>\n",
              "      <td>Normal</td>\n",
              "      <td>0</td>\n",
              "      <td>SYLHET SIXERS</td>\n",
              "      <td>NaN</td>\n",
              "      <td>9.0</td>\n",
              "      <td>Upul Tharanga</td>\n",
              "      <td>Sylhet International Cricket Stadiu</td>\n",
              "    </tr>\n",
              "    <tr>\n",
              "      <th>66</th>\n",
              "      <td>67</td>\n",
              "      <td>2017</td>\n",
              "      <td>Dhaka</td>\n",
              "      <td>15 Nov,2017</td>\n",
              "      <td>DHAKA DYNAMITES</td>\n",
              "      <td>CHITTAGONG VIKINGS</td>\n",
              "      <td>Dhaka Dynamites</td>\n",
              "      <td>Bat</td>\n",
              "      <td>Normal</td>\n",
              "      <td>0</td>\n",
              "      <td>Dhaka Dynamites</td>\n",
              "      <td>0.0</td>\n",
              "      <td>4.0</td>\n",
              "      <td>NaN</td>\n",
              "      <td>Shere Bangla National Stadium</td>\n",
              "    </tr>\n",
              "  </tbody>\n",
              "</table>\n",
              "</div>"
            ],
            "text/plain": [
              "    ID  season  ... player_of_match                                venue\n",
              "30  31    2019  ...     Imrul Kayes        Shere Bangla National Stadium\n",
              "37  38    2019  ...  Andre Fletcher        Zahur Ahmed Chowdhury Stadium\n",
              "59  60    2017  ...   Upul Tharanga  Sylhet International Cricket Stadiu\n",
              "66  67    2017  ...             NaN        Shere Bangla National Stadium\n",
              "\n",
              "[4 rows x 15 columns]"
            ]
          },
          "metadata": {},
          "execution_count": 20
        }
      ]
    },
    {
      "cell_type": "code",
      "metadata": {
        "id": "Fo6yOg4IjtXY"
      },
      "source": [
        "cities = BPL_df.groupby('city')[['ID']].count()"
      ],
      "execution_count": null,
      "outputs": []
    },
    {
      "cell_type": "code",
      "metadata": {
        "colab": {
          "base_uri": "https://localhost:8080/",
          "height": 175
        },
        "id": "hutbjw5yj0Uu",
        "outputId": "747f8b95-d75e-4b46-ac0c-c1c34c40eded"
      },
      "source": [
        "cities"
      ],
      "execution_count": null,
      "outputs": [
        {
          "output_type": "execute_result",
          "data": {
            "text/html": [
              "<div>\n",
              "<style scoped>\n",
              "    .dataframe tbody tr th:only-of-type {\n",
              "        vertical-align: middle;\n",
              "    }\n",
              "\n",
              "    .dataframe tbody tr th {\n",
              "        vertical-align: top;\n",
              "    }\n",
              "\n",
              "    .dataframe thead th {\n",
              "        text-align: right;\n",
              "    }\n",
              "</style>\n",
              "<table border=\"1\" class=\"dataframe\">\n",
              "  <thead>\n",
              "    <tr style=\"text-align: right;\">\n",
              "      <th></th>\n",
              "      <th>ID</th>\n",
              "    </tr>\n",
              "    <tr>\n",
              "      <th>city</th>\n",
              "      <th></th>\n",
              "    </tr>\n",
              "  </thead>\n",
              "  <tbody>\n",
              "    <tr>\n",
              "      <th>Chattogram</th>\n",
              "      <td>25</td>\n",
              "    </tr>\n",
              "    <tr>\n",
              "      <th>Dhaka</th>\n",
              "      <td>54</td>\n",
              "    </tr>\n",
              "    <tr>\n",
              "      <th>Sylhet</th>\n",
              "      <td>10</td>\n",
              "    </tr>\n",
              "  </tbody>\n",
              "</table>\n",
              "</div>"
            ],
            "text/plain": [
              "            ID\n",
              "city          \n",
              "Chattogram  25\n",
              "Dhaka       54\n",
              "Sylhet      10"
            ]
          },
          "metadata": {},
          "execution_count": 22
        }
      ]
    },
    {
      "cell_type": "code",
      "metadata": {
        "colab": {
          "base_uri": "https://localhost:8080/",
          "height": 143
        },
        "id": "H6kt9MuGj3lW",
        "outputId": "7c0b225a-85cb-40f3-99bf-9854f3dfc892"
      },
      "source": [
        "plt.figaspect\n",
        "cities.rename(columns={'ID':'matches'},inplace=True)\n",
        "cities = cities.sort_values('matches',ascending=True).reset_index()\n",
        "cities"
      ],
      "execution_count": null,
      "outputs": [
        {
          "output_type": "execute_result",
          "data": {
            "text/html": [
              "<div>\n",
              "<style scoped>\n",
              "    .dataframe tbody tr th:only-of-type {\n",
              "        vertical-align: middle;\n",
              "    }\n",
              "\n",
              "    .dataframe tbody tr th {\n",
              "        vertical-align: top;\n",
              "    }\n",
              "\n",
              "    .dataframe thead th {\n",
              "        text-align: right;\n",
              "    }\n",
              "</style>\n",
              "<table border=\"1\" class=\"dataframe\">\n",
              "  <thead>\n",
              "    <tr style=\"text-align: right;\">\n",
              "      <th></th>\n",
              "      <th>city</th>\n",
              "      <th>matches</th>\n",
              "    </tr>\n",
              "  </thead>\n",
              "  <tbody>\n",
              "    <tr>\n",
              "      <th>0</th>\n",
              "      <td>Sylhet</td>\n",
              "      <td>10</td>\n",
              "    </tr>\n",
              "    <tr>\n",
              "      <th>1</th>\n",
              "      <td>Chattogram</td>\n",
              "      <td>25</td>\n",
              "    </tr>\n",
              "    <tr>\n",
              "      <th>2</th>\n",
              "      <td>Dhaka</td>\n",
              "      <td>54</td>\n",
              "    </tr>\n",
              "  </tbody>\n",
              "</table>\n",
              "</div>"
            ],
            "text/plain": [
              "         city  matches\n",
              "0      Sylhet       10\n",
              "1  Chattogram       25\n",
              "2       Dhaka       54"
            ]
          },
          "metadata": {},
          "execution_count": 23
        }
      ]
    },
    {
      "cell_type": "code",
      "metadata": {
        "colab": {
          "base_uri": "https://localhost:8080/",
          "height": 621
        },
        "id": "PrSJflZ0j7po",
        "outputId": "2bfabf61-6691-4600-b122-b0c1ed61011b"
      },
      "source": [
        "plt.figure(figsize=(20,10))\n",
        "plt.grid()\n",
        "plt.title('Number Of Matches Played In Each City')\n",
        "sns.barplot(x='matches',y='city',data=cities);"
      ],
      "execution_count": null,
      "outputs": [
        {
          "output_type": "display_data",
          "data": {
            "image/png": "[encoded data removed]",
            "text/plain": [
              "<Figure size 1440x720 with 1 Axes>"
            ]
          },
          "metadata": {
            "needs_background": "light"
          }
        }
      ]
    },
    {
      "cell_type": "code",
      "metadata": {
        "colab": {
          "base_uri": "https://localhost:8080/"
        },
        "id": "NFNL4Hc0kAKT",
        "outputId": "055d2c0c-658b-4322-b3a3-347c3fa96230"
      },
      "source": [
        "BPL_df.winner.unique()"
      ],
      "execution_count": null,
      "outputs": [
        {
          "output_type": "execute_result",
          "data": {
            "text/plain": [
              "array(['Chattogram Challengers', 'Cumilla Warriors', 'Rajshahi Royales',\n",
              "       'Khulna Tighers', 'Dhaka Platoon', 'Sylhet Thunder',\n",
              "       'Rangpur Riders', 'Rajshahi Royals', 'Khulna Tigers',\n",
              "       'Comilla Warriors', 'Dhaka Platoons', 'Rangpur Rangers',\n",
              "       'Chittagong Vikings', 'Comilla Victorians', 'Dhaka Dynamites',\n",
              "       'Sylhet Sixers', 'Draw', 'Rajshahi Kings', 'Khulna Titans',\n",
              "       'SYLHET SIXERS', 'DHAKA DYNAMITES', 'KHULNA TITANS',\n",
              "       'RAJSHAHI KINGS', 'COMILLA VICTORIANS', 'Dhaka Dynamites ',\n",
              "       'RANGPUR RIDERS', 'BARISAL BULLS', 'CHITTAGONG VIKINGS'],\n",
              "      dtype=object)"
            ]
          },
          "metadata": {},
          "execution_count": 26
        }
      ]
    },
    {
      "cell_type": "code",
      "metadata": {
        "colab": {
          "base_uri": "https://localhost:8080/",
          "height": 927
        },
        "id": "h73kvJGEkJhe",
        "outputId": "7fce0452-8675-41e2-f309-775a75d7c1c5"
      },
      "source": [
        "\n",
        "winner_df = BPL_df.groupby('winner')[['ID']].count()\n",
        "winner_df = winner_df.sort_values('ID', ascending=False).reset_index()\n",
        "\n",
        "winner_df.rename(columns = {'ID':'wins','winner':'Teams'},inplace=True)\n",
        "winner_df"
      ],
      "execution_count": null,
      "outputs": [
        {
          "output_type": "execute_result",
          "data": {
            "text/html": [
              "<div>\n",
              "<style scoped>\n",
              "    .dataframe tbody tr th:only-of-type {\n",
              "        vertical-align: middle;\n",
              "    }\n",
              "\n",
              "    .dataframe tbody tr th {\n",
              "        vertical-align: top;\n",
              "    }\n",
              "\n",
              "    .dataframe thead th {\n",
              "        text-align: right;\n",
              "    }\n",
              "</style>\n",
              "<table border=\"1\" class=\"dataframe\">\n",
              "  <thead>\n",
              "    <tr style=\"text-align: right;\">\n",
              "      <th></th>\n",
              "      <th>Teams</th>\n",
              "      <th>wins</th>\n",
              "    </tr>\n",
              "  </thead>\n",
              "  <tbody>\n",
              "    <tr>\n",
              "      <th>0</th>\n",
              "      <td>Chattogram Challengers</td>\n",
              "      <td>9</td>\n",
              "    </tr>\n",
              "    <tr>\n",
              "      <th>1</th>\n",
              "      <td>DHAKA DYNAMITES</td>\n",
              "      <td>7</td>\n",
              "    </tr>\n",
              "    <tr>\n",
              "      <th>2</th>\n",
              "      <td>RANGPUR RIDERS</td>\n",
              "      <td>7</td>\n",
              "    </tr>\n",
              "    <tr>\n",
              "      <th>3</th>\n",
              "      <td>Khulna Tighers</td>\n",
              "      <td>5</td>\n",
              "    </tr>\n",
              "    <tr>\n",
              "      <th>4</th>\n",
              "      <td>Dhaka Dynamites</td>\n",
              "      <td>5</td>\n",
              "    </tr>\n",
              "    <tr>\n",
              "      <th>5</th>\n",
              "      <td>Dhaka Platoon</td>\n",
              "      <td>5</td>\n",
              "    </tr>\n",
              "    <tr>\n",
              "      <th>6</th>\n",
              "      <td>Rajshahi Royales</td>\n",
              "      <td>5</td>\n",
              "    </tr>\n",
              "    <tr>\n",
              "      <th>7</th>\n",
              "      <td>KHULNA TITANS</td>\n",
              "      <td>4</td>\n",
              "    </tr>\n",
              "    <tr>\n",
              "      <th>8</th>\n",
              "      <td>Rangpur Riders</td>\n",
              "      <td>4</td>\n",
              "    </tr>\n",
              "    <tr>\n",
              "      <th>9</th>\n",
              "      <td>Cumilla Warriors</td>\n",
              "      <td>4</td>\n",
              "    </tr>\n",
              "    <tr>\n",
              "      <th>10</th>\n",
              "      <td>Rajshahi Royals</td>\n",
              "      <td>4</td>\n",
              "    </tr>\n",
              "    <tr>\n",
              "      <th>11</th>\n",
              "      <td>RAJSHAHI KINGS</td>\n",
              "      <td>4</td>\n",
              "    </tr>\n",
              "    <tr>\n",
              "      <th>12</th>\n",
              "      <td>COMILLA VICTORIANS</td>\n",
              "      <td>3</td>\n",
              "    </tr>\n",
              "    <tr>\n",
              "      <th>13</th>\n",
              "      <td>Comilla Victorians</td>\n",
              "      <td>3</td>\n",
              "    </tr>\n",
              "    <tr>\n",
              "      <th>14</th>\n",
              "      <td>SYLHET SIXERS</td>\n",
              "      <td>2</td>\n",
              "    </tr>\n",
              "    <tr>\n",
              "      <th>15</th>\n",
              "      <td>Rajshahi Kings</td>\n",
              "      <td>2</td>\n",
              "    </tr>\n",
              "    <tr>\n",
              "      <th>16</th>\n",
              "      <td>Sylhet Thunder</td>\n",
              "      <td>2</td>\n",
              "    </tr>\n",
              "    <tr>\n",
              "      <th>17</th>\n",
              "      <td>Khulna Tigers</td>\n",
              "      <td>2</td>\n",
              "    </tr>\n",
              "    <tr>\n",
              "      <th>18</th>\n",
              "      <td>Dhaka Platoons</td>\n",
              "      <td>2</td>\n",
              "    </tr>\n",
              "    <tr>\n",
              "      <th>19</th>\n",
              "      <td>Comilla Warriors</td>\n",
              "      <td>2</td>\n",
              "    </tr>\n",
              "    <tr>\n",
              "      <th>20</th>\n",
              "      <td>Khulna Titans</td>\n",
              "      <td>1</td>\n",
              "    </tr>\n",
              "    <tr>\n",
              "      <th>21</th>\n",
              "      <td>CHITTAGONG VIKINGS</td>\n",
              "      <td>1</td>\n",
              "    </tr>\n",
              "    <tr>\n",
              "      <th>22</th>\n",
              "      <td>Draw</td>\n",
              "      <td>1</td>\n",
              "    </tr>\n",
              "    <tr>\n",
              "      <th>23</th>\n",
              "      <td>Dhaka Dynamites</td>\n",
              "      <td>1</td>\n",
              "    </tr>\n",
              "    <tr>\n",
              "      <th>24</th>\n",
              "      <td>Rangpur Rangers</td>\n",
              "      <td>1</td>\n",
              "    </tr>\n",
              "    <tr>\n",
              "      <th>25</th>\n",
              "      <td>Chittagong Vikings</td>\n",
              "      <td>1</td>\n",
              "    </tr>\n",
              "    <tr>\n",
              "      <th>26</th>\n",
              "      <td>Sylhet Sixers</td>\n",
              "      <td>1</td>\n",
              "    </tr>\n",
              "    <tr>\n",
              "      <th>27</th>\n",
              "      <td>BARISAL BULLS</td>\n",
              "      <td>1</td>\n",
              "    </tr>\n",
              "  </tbody>\n",
              "</table>\n",
              "</div>"
            ],
            "text/plain": [
              "                     Teams  wins\n",
              "0   Chattogram Challengers     9\n",
              "1          DHAKA DYNAMITES     7\n",
              "2           RANGPUR RIDERS     7\n",
              "3           Khulna Tighers     5\n",
              "4          Dhaka Dynamites     5\n",
              "5            Dhaka Platoon     5\n",
              "6         Rajshahi Royales     5\n",
              "7            KHULNA TITANS     4\n",
              "8           Rangpur Riders     4\n",
              "9         Cumilla Warriors     4\n",
              "10         Rajshahi Royals     4\n",
              "11          RAJSHAHI KINGS     4\n",
              "12      COMILLA VICTORIANS     3\n",
              "13      Comilla Victorians     3\n",
              "14           SYLHET SIXERS     2\n",
              "15          Rajshahi Kings     2\n",
              "16          Sylhet Thunder     2\n",
              "17           Khulna Tigers     2\n",
              "18          Dhaka Platoons     2\n",
              "19        Comilla Warriors     2\n",
              "20           Khulna Titans     1\n",
              "21      CHITTAGONG VIKINGS     1\n",
              "22                    Draw     1\n",
              "23        Dhaka Dynamites      1\n",
              "24         Rangpur Rangers     1\n",
              "25      Chittagong Vikings     1\n",
              "26           Sylhet Sixers     1\n",
              "27           BARISAL BULLS     1"
            ]
          },
          "metadata": {},
          "execution_count": 28
        }
      ]
    },
    {
      "cell_type": "code",
      "metadata": {
        "colab": {
          "base_uri": "https://localhost:8080/",
          "height": 1000
        },
        "id": "w8kZRccykVY_",
        "outputId": "689e4791-96fd-419f-c9db-2e6500799fa3"
      },
      "source": [
        "#Plotting Wins vs Teams\n",
        "plt.figure(figsize=(30,20))\n",
        "plt.xlabel('Teams')\n",
        "plt.ylabel('Wins')\n",
        "plt.title('Matches Won By Each Team');\n",
        "plt.bar(winner_df.Teams,winner_df.wins);"
      ],
      "execution_count": null,
      "outputs": [
        {
          "output_type": "display_data",
          "data": {
            "image/png": "[encoded data removed]",
            "text/plain": [
              "<Figure size 2160x1440 with 1 Axes>"
            ]
          },
          "metadata": {
            "needs_background": "light"
          }
        }
      ]
    },
    {
      "cell_type": "code",
      "metadata": {
        "colab": {
          "base_uri": "https://localhost:8080/",
          "height": 888
        },
        "id": "s_D2lSazkb-b",
        "outputId": "e08bdbea-0ee7-4b99-c473-09609ffd57e6"
      },
      "source": [
        "#Plotting Wins vs Teams\n",
        "#We will be using colour code of teams jersey to make it easily understandable\n",
        "plt.figure(figsize=(20,10))\n",
        "plt.legend(winner_df.Teams,loc=1)\n",
        "plt.xlabel('Teams',fontweight='bold',fontsize=30)\n",
        "plt.ylabel('Wins',fontweight='bold',fontsize=30)\n",
        "plt.tick_params(labelsize=20)\n",
        "plt.xticks(rotation=90)\n",
        "plt.title('Matches Won By Each Team',fontweight='bold',fontsize=30);\n",
        "plt.bar(winner_df.Teams, winner_df.wins, color = ['blue','#FFD801','#461B7E','#C11B17','#F660AB','#000080','#F535AA','#F87217','#BCC6CC','#2C04A2','#E04F16','#632B72']);"
      ],
      "execution_count": null,
      "outputs": [
        {
          "output_type": "display_data",
          "data": {
            "image/png": "[encoded data removed]",
            "text/plain": [
              "<Figure size 1440x720 with 1 Axes>"
            ]
          },
          "metadata": {
            "needs_background": "light"
          }
        }
      ]
    },
    {
      "cell_type": "code",
      "metadata": {
        "id": "NfwE7q5hki4P"
      },
      "source": [
        "season_df = BPL_df.groupby('season')[['ID']].count()\n",
        "season_df = season_df.sort_values('season', ascending=False).reset_index()\n",
        "season_df.rename(columns = {'ID':'Matches','season':'Year'},inplace = True)"
      ],
      "execution_count": null,
      "outputs": []
    },
    {
      "cell_type": "code",
      "metadata": {
        "colab": {
          "base_uri": "https://localhost:8080/",
          "height": 206
        },
        "id": "c5lfLpDOkqys",
        "outputId": "c7863ad9-da33-41c8-eca8-cddbdb3483df"
      },
      "source": [
        "season_df"
      ],
      "execution_count": null,
      "outputs": [
        {
          "output_type": "execute_result",
          "data": {
            "text/html": [
              "<div>\n",
              "<style scoped>\n",
              "    .dataframe tbody tr th:only-of-type {\n",
              "        vertical-align: middle;\n",
              "    }\n",
              "\n",
              "    .dataframe tbody tr th {\n",
              "        vertical-align: top;\n",
              "    }\n",
              "\n",
              "    .dataframe thead th {\n",
              "        text-align: right;\n",
              "    }\n",
              "</style>\n",
              "<table border=\"1\" class=\"dataframe\">\n",
              "  <thead>\n",
              "    <tr style=\"text-align: right;\">\n",
              "      <th></th>\n",
              "      <th>Year</th>\n",
              "      <th>Matches</th>\n",
              "    </tr>\n",
              "  </thead>\n",
              "  <tbody>\n",
              "    <tr>\n",
              "      <th>0</th>\n",
              "      <td>2020</td>\n",
              "      <td>30</td>\n",
              "    </tr>\n",
              "    <tr>\n",
              "      <th>1</th>\n",
              "      <td>2019</td>\n",
              "      <td>15</td>\n",
              "    </tr>\n",
              "    <tr>\n",
              "      <th>2</th>\n",
              "      <td>2018</td>\n",
              "      <td>14</td>\n",
              "    </tr>\n",
              "    <tr>\n",
              "      <th>3</th>\n",
              "      <td>2017</td>\n",
              "      <td>16</td>\n",
              "    </tr>\n",
              "    <tr>\n",
              "      <th>4</th>\n",
              "      <td>2016</td>\n",
              "      <td>14</td>\n",
              "    </tr>\n",
              "  </tbody>\n",
              "</table>\n",
              "</div>"
            ],
            "text/plain": [
              "   Year  Matches\n",
              "0  2020       30\n",
              "1  2019       15\n",
              "2  2018       14\n",
              "3  2017       16\n",
              "4  2016       14"
            ]
          },
          "metadata": {},
          "execution_count": 32
        }
      ]
    },
    {
      "cell_type": "code",
      "metadata": {
        "colab": {
          "base_uri": "https://localhost:8080/",
          "height": 697
        },
        "id": "qAkHaYuEkvB3",
        "outputId": "0057c09c-f07a-465c-c8b6-1966d00369ba"
      },
      "source": [
        "#To make it look more neat we will rotate the x-axis name with an angle of 60 using .xticks() method\n",
        "# Also will make the font bold and increase its size for readability\n",
        "plt.figure(figsize=(20,10))\n",
        "plt.title(\"Mathes Played In Each season\",fontweight='bold',fontsize=30)\n",
        "plt.xlabel('season',fontweight='bold',fontsize=30)\n",
        "plt.ylabel('Total Matches',fontweight='bold',fontsize=30)\n",
        "plt.xticks(rotation='60')\n",
        "plt.tick_params(labelsize=20)\n",
        "plt.bar(season_df.Year,season_df.Matches,color=['#98AFC7','#6D7B8D']);"
      ],
      "execution_count": null,
      "outputs": [
        {
          "output_type": "display_data",
          "data": {
            "image/png": "[encoded data removed]",
            "text/plain": [
              "<Figure size 1440x720 with 1 Axes>"
            ]
          },
          "metadata": {
            "needs_background": "light"
          }
        }
      ]
    },
    {
      "cell_type": "code",
      "metadata": {
        "colab": {
          "base_uri": "https://localhost:8080/",
          "height": 597
        },
        "id": "geysmzJ5k6Yr",
        "outputId": "4f920f55-c2a0-4559-fe2e-f04ebc6e8210"
      },
      "source": [
        "BPL_df"
      ],
      "execution_count": null,
      "outputs": [
        {
          "output_type": "execute_result",
          "data": {
            "text/html": [
              "<div>\n",
              "<style scoped>\n",
              "    .dataframe tbody tr th:only-of-type {\n",
              "        vertical-align: middle;\n",
              "    }\n",
              "\n",
              "    .dataframe tbody tr th {\n",
              "        vertical-align: top;\n",
              "    }\n",
              "\n",
              "    .dataframe thead th {\n",
              "        text-align: right;\n",
              "    }\n",
              "</style>\n",
              "<table border=\"1\" class=\"dataframe\">\n",
              "  <thead>\n",
              "    <tr style=\"text-align: right;\">\n",
              "      <th></th>\n",
              "      <th>ID</th>\n",
              "      <th>season</th>\n",
              "      <th>city</th>\n",
              "      <th>date</th>\n",
              "      <th>team1</th>\n",
              "      <th>team2</th>\n",
              "      <th>toss_winner</th>\n",
              "      <th>toss_decision</th>\n",
              "      <th>result</th>\n",
              "      <th>dl_applied</th>\n",
              "      <th>winner</th>\n",
              "      <th>win_by_runs</th>\n",
              "      <th>win_by_wickets</th>\n",
              "      <th>player_of_match</th>\n",
              "      <th>venue</th>\n",
              "    </tr>\n",
              "  </thead>\n",
              "  <tbody>\n",
              "    <tr>\n",
              "      <th>0</th>\n",
              "      <td>1</td>\n",
              "      <td>2020</td>\n",
              "      <td>Dhaka</td>\n",
              "      <td>11/12/2019</td>\n",
              "      <td>Sylhet Thunder</td>\n",
              "      <td>Chattogram Challengers</td>\n",
              "      <td>Chattogram Challengers</td>\n",
              "      <td>Field</td>\n",
              "      <td>Normal</td>\n",
              "      <td>0</td>\n",
              "      <td>Chattogram Challengers</td>\n",
              "      <td>0.0</td>\n",
              "      <td>5.0</td>\n",
              "      <td>Imrul Kayes</td>\n",
              "      <td>Sher-e-Bangla National Cricket</td>\n",
              "    </tr>\n",
              "    <tr>\n",
              "      <th>1</th>\n",
              "      <td>2</td>\n",
              "      <td>2020</td>\n",
              "      <td>Dhaka</td>\n",
              "      <td>11/12/2019</td>\n",
              "      <td>Cumilla Warriors</td>\n",
              "      <td>Rangpur Riders</td>\n",
              "      <td>Cumilla Warriors</td>\n",
              "      <td>Bat</td>\n",
              "      <td>Normal</td>\n",
              "      <td>0</td>\n",
              "      <td>Cumilla Warriors</td>\n",
              "      <td>105.0</td>\n",
              "      <td>0.0</td>\n",
              "      <td>Dasun Shanaka</td>\n",
              "      <td>Sher-e-Bangla National Cricket</td>\n",
              "    </tr>\n",
              "    <tr>\n",
              "      <th>2</th>\n",
              "      <td>3</td>\n",
              "      <td>2020</td>\n",
              "      <td>Dhaka</td>\n",
              "      <td>12/12/2019</td>\n",
              "      <td>Dhaka Platoon</td>\n",
              "      <td>Rajshahi Royales</td>\n",
              "      <td>Rajshahi Royales</td>\n",
              "      <td>Field</td>\n",
              "      <td>Normal</td>\n",
              "      <td>0</td>\n",
              "      <td>Rajshahi Royales</td>\n",
              "      <td>0.0</td>\n",
              "      <td>9.0</td>\n",
              "      <td>Ravi Bopara</td>\n",
              "      <td>Sher-e-Bangla National Cricket</td>\n",
              "    </tr>\n",
              "    <tr>\n",
              "      <th>3</th>\n",
              "      <td>4</td>\n",
              "      <td>2020</td>\n",
              "      <td>Dhaka</td>\n",
              "      <td>12/12/2019</td>\n",
              "      <td>Chattogram Challengers</td>\n",
              "      <td>Khulna Tighers</td>\n",
              "      <td>Khulna Tighers</td>\n",
              "      <td>Field</td>\n",
              "      <td>Normal</td>\n",
              "      <td>0</td>\n",
              "      <td>Khulna Tighers</td>\n",
              "      <td>0.0</td>\n",
              "      <td>8.0</td>\n",
              "      <td>Rilee Rossouw</td>\n",
              "      <td>Sher-e-Bangla National Cricket</td>\n",
              "    </tr>\n",
              "    <tr>\n",
              "      <th>4</th>\n",
              "      <td>5</td>\n",
              "      <td>2020</td>\n",
              "      <td>Dhaka</td>\n",
              "      <td>13/12/2019</td>\n",
              "      <td>Sylhet Thunder</td>\n",
              "      <td>Anamul Haque</td>\n",
              "      <td>Rajshahi Royales</td>\n",
              "      <td>Field</td>\n",
              "      <td>Normal</td>\n",
              "      <td>0</td>\n",
              "      <td>Rajshahi Royales</td>\n",
              "      <td>0.0</td>\n",
              "      <td>5.0</td>\n",
              "      <td>Alok Kapali</td>\n",
              "      <td>Sher-e-Bangla National Cricket</td>\n",
              "    </tr>\n",
              "    <tr>\n",
              "      <th>...</th>\n",
              "      <td>...</td>\n",
              "      <td>...</td>\n",
              "      <td>...</td>\n",
              "      <td>...</td>\n",
              "      <td>...</td>\n",
              "      <td>...</td>\n",
              "      <td>...</td>\n",
              "      <td>...</td>\n",
              "      <td>...</td>\n",
              "      <td>...</td>\n",
              "      <td>...</td>\n",
              "      <td>...</td>\n",
              "      <td>...</td>\n",
              "      <td>...</td>\n",
              "      <td>...</td>\n",
              "    </tr>\n",
              "    <tr>\n",
              "      <th>84</th>\n",
              "      <td>85</td>\n",
              "      <td>2016</td>\n",
              "      <td>Chattogram</td>\n",
              "      <td>19 Nov,2016</td>\n",
              "      <td>DHAKA DYNAMITES</td>\n",
              "      <td>KHULNA TITANS</td>\n",
              "      <td>Khulna Titans</td>\n",
              "      <td>Bat</td>\n",
              "      <td>Normal</td>\n",
              "      <td>0</td>\n",
              "      <td>KHULNA TITANS</td>\n",
              "      <td>9.0</td>\n",
              "      <td>0.0</td>\n",
              "      <td>Mosharraf Hossain</td>\n",
              "      <td>Zahur Ahmed Chowdhury Stadium, Chattogram</td>\n",
              "    </tr>\n",
              "    <tr>\n",
              "      <th>85</th>\n",
              "      <td>86</td>\n",
              "      <td>2016</td>\n",
              "      <td>Dhaka</td>\n",
              "      <td>6 Dec,2016</td>\n",
              "      <td>CHITTAGONG VIKINGS</td>\n",
              "      <td>RAJSHAHI KINGS</td>\n",
              "      <td>Rajshahi Kings</td>\n",
              "      <td>Field</td>\n",
              "      <td>Normal</td>\n",
              "      <td>0</td>\n",
              "      <td>RAJSHAHI KINGS</td>\n",
              "      <td>0.0</td>\n",
              "      <td>3.0</td>\n",
              "      <td>Daren Sammy</td>\n",
              "      <td>Shere Bangla National Stadium, Dhaka</td>\n",
              "    </tr>\n",
              "    <tr>\n",
              "      <th>86</th>\n",
              "      <td>87</td>\n",
              "      <td>2016</td>\n",
              "      <td>Dhaka</td>\n",
              "      <td>6 Dec,2016</td>\n",
              "      <td>DHAKA DYNAMITES</td>\n",
              "      <td>KHULNA TITANS</td>\n",
              "      <td>Khulna Titans</td>\n",
              "      <td>Field</td>\n",
              "      <td>Normal</td>\n",
              "      <td>0</td>\n",
              "      <td>DHAKA DYNAMITES</td>\n",
              "      <td>54.0</td>\n",
              "      <td>0.0</td>\n",
              "      <td>Andre Russell</td>\n",
              "      <td>Sher-e Bangla National Stadium, Dhaka</td>\n",
              "    </tr>\n",
              "    <tr>\n",
              "      <th>87</th>\n",
              "      <td>88</td>\n",
              "      <td>2016</td>\n",
              "      <td>Dhaka</td>\n",
              "      <td>7 Dec,2016</td>\n",
              "      <td>KHULNA TITANS</td>\n",
              "      <td>RAJSHAHI KINGS</td>\n",
              "      <td>Khulna Titans</td>\n",
              "      <td>Bat</td>\n",
              "      <td>Normal</td>\n",
              "      <td>0</td>\n",
              "      <td>RAJSHAHI KINGS</td>\n",
              "      <td>0.0</td>\n",
              "      <td>7.0</td>\n",
              "      <td>Samit Patel</td>\n",
              "      <td>Sher-e Bangla National Stadium, Dhaka</td>\n",
              "    </tr>\n",
              "    <tr>\n",
              "      <th>88</th>\n",
              "      <td>89</td>\n",
              "      <td>2016</td>\n",
              "      <td>Dhaka</td>\n",
              "      <td>9 Nov,2016</td>\n",
              "      <td>DHAKA DYNAMITES</td>\n",
              "      <td>RAJSHAHI KINGS</td>\n",
              "      <td>Rajshahi Kings</td>\n",
              "      <td>Field</td>\n",
              "      <td>Normal</td>\n",
              "      <td>0</td>\n",
              "      <td>DHAKA DYNAMITES</td>\n",
              "      <td>56.0</td>\n",
              "      <td>0.0</td>\n",
              "      <td>Mahmudullah</td>\n",
              "      <td>Sher-e Bangla National Stadium, Dhaka</td>\n",
              "    </tr>\n",
              "  </tbody>\n",
              "</table>\n",
              "<p>89 rows × 15 columns</p>\n",
              "</div>"
            ],
            "text/plain": [
              "    ID  season  ...    player_of_match                                      venue\n",
              "0    1    2020  ...        Imrul Kayes             Sher-e-Bangla National Cricket\n",
              "1    2    2020  ...      Dasun Shanaka             Sher-e-Bangla National Cricket\n",
              "2    3    2020  ...        Ravi Bopara             Sher-e-Bangla National Cricket\n",
              "3    4    2020  ...      Rilee Rossouw             Sher-e-Bangla National Cricket\n",
              "4    5    2020  ...        Alok Kapali             Sher-e-Bangla National Cricket\n",
              "..  ..     ...  ...                ...                                        ...\n",
              "84  85    2016  ...  Mosharraf Hossain  Zahur Ahmed Chowdhury Stadium, Chattogram\n",
              "85  86    2016  ...        Daren Sammy       Shere Bangla National Stadium, Dhaka\n",
              "86  87    2016  ...      Andre Russell      Sher-e Bangla National Stadium, Dhaka\n",
              "87  88    2016  ...        Samit Patel      Sher-e Bangla National Stadium, Dhaka\n",
              "88  89    2016  ...        Mahmudullah      Sher-e Bangla National Stadium, Dhaka\n",
              "\n",
              "[89 rows x 15 columns]"
            ]
          },
          "metadata": {},
          "execution_count": 34
        }
      ]
    },
    {
      "cell_type": "code",
      "metadata": {
        "colab": {
          "base_uri": "https://localhost:8080/"
        },
        "id": "oUpFEjbQlD9G",
        "outputId": "9ccdde2e-48c1-4414-b7cb-444d71ccabe1"
      },
      "source": [
        "# We can see toss decision is either bat/field\n",
        "BPL_df.toss_decision.unique()"
      ],
      "execution_count": null,
      "outputs": [
        {
          "output_type": "execute_result",
          "data": {
            "text/plain": [
              "array(['Field', 'Bat'], dtype=object)"
            ]
          },
          "metadata": {},
          "execution_count": 35
        }
      ]
    },
    {
      "cell_type": "code",
      "metadata": {
        "id": "zpjFUSOLlIfK"
      },
      "source": [
        "decision_df = BPL_df.groupby('toss_decision')[['ID']].count()\n",
        "decision_df = decision_df.sort_values('ID').reset_index()\n",
        "decision_df.rename(columns={'ID':'Total','toss_decision':'Decision'},inplace=True)"
      ],
      "execution_count": null,
      "outputs": []
    },
    {
      "cell_type": "code",
      "metadata": {
        "colab": {
          "base_uri": "https://localhost:8080/",
          "height": 112
        },
        "id": "TIOfcIqFlNdR",
        "outputId": "f8c0ecb9-ebfe-42b1-c452-00c6c853d26e"
      },
      "source": [
        "decision_df"
      ],
      "execution_count": null,
      "outputs": [
        {
          "output_type": "execute_result",
          "data": {
            "text/html": [
              "<div>\n",
              "<style scoped>\n",
              "    .dataframe tbody tr th:only-of-type {\n",
              "        vertical-align: middle;\n",
              "    }\n",
              "\n",
              "    .dataframe tbody tr th {\n",
              "        vertical-align: top;\n",
              "    }\n",
              "\n",
              "    .dataframe thead th {\n",
              "        text-align: right;\n",
              "    }\n",
              "</style>\n",
              "<table border=\"1\" class=\"dataframe\">\n",
              "  <thead>\n",
              "    <tr style=\"text-align: right;\">\n",
              "      <th></th>\n",
              "      <th>Decision</th>\n",
              "      <th>Total</th>\n",
              "    </tr>\n",
              "  </thead>\n",
              "  <tbody>\n",
              "    <tr>\n",
              "      <th>0</th>\n",
              "      <td>Bat</td>\n",
              "      <td>19</td>\n",
              "    </tr>\n",
              "    <tr>\n",
              "      <th>1</th>\n",
              "      <td>Field</td>\n",
              "      <td>70</td>\n",
              "    </tr>\n",
              "  </tbody>\n",
              "</table>\n",
              "</div>"
            ],
            "text/plain": [
              "  Decision  Total\n",
              "0      Bat     19\n",
              "1    Field     70"
            ]
          },
          "metadata": {},
          "execution_count": 37
        }
      ]
    },
    {
      "cell_type": "code",
      "metadata": {
        "colab": {
          "base_uri": "https://localhost:8080/",
          "height": 662
        },
        "id": "EO06L8vSlR8h",
        "outputId": "6ebf9040-023b-440c-ad9c-ed71a3532ef7"
      },
      "source": [
        "\n",
        "#Lets plot the Result\n",
        "plt.figure(figsize=(10,10))\n",
        "plt.title(\"Preferred Decision\",fontweight='bold',fontsize=30)\n",
        "plt.xlabel('Decision',fontweight='bold',fontsize=30)\n",
        "plt.ylabel('Total',fontweight='bold',fontsize=30)\n",
        "plt.tick_params(labelsize=20)\n",
        "plt.grid()\n",
        "plt.bar(decision_df.Decision, decision_df.Total, color=['#4863A0','#566D7E']);"
      ],
      "execution_count": null,
      "outputs": [
        {
          "output_type": "display_data",
          "data": {
            "image/png": "[encoded data removed]",
            "text/plain": [
              "<Figure size 720x720 with 1 Axes>"
            ]
          },
          "metadata": {
            "needs_background": "light"
          }
        }
      ]
    },
    {
      "cell_type": "code",
      "metadata": {
        "colab": {
          "base_uri": "https://localhost:8080/"
        },
        "id": "vEN8oHF2lZEk",
        "outputId": "398e5bdd-1478-4301-9e24-01960cb0a7ee"
      },
      "source": [
        "print('The Most Preferred Decision After Winning Toss in the IPL Until 2019 has been \"Choose to Field First\"')"
      ],
      "execution_count": null,
      "outputs": [
        {
          "output_type": "stream",
          "name": "stdout",
          "text": [
            "The Most Preferred Decision After Winning Toss in the IPL Until 2019 has been \"Choose to Field First\"\n"
          ]
        }
      ]
    },
    {
      "cell_type": "code",
      "metadata": {
        "id": "IHKqu1Y2lfMc"
      },
      "source": [
        "Field_df = BPL_df.loc[(BPL_df['toss_winner'] == BPL_df['winner']) & (BPL_df['toss_decision'] == 'Field'), ['ID', 'winner','toss_decision']]"
      ],
      "execution_count": null,
      "outputs": []
    },
    {
      "cell_type": "code",
      "metadata": {
        "colab": {
          "base_uri": "https://localhost:8080/"
        },
        "id": "guGAItpBlkCX",
        "outputId": "bf86fc6f-1bae-46fc-c3e9-a01d6a0d7bb2"
      },
      "source": [
        "Field_df.winner.count()"
      ],
      "execution_count": null,
      "outputs": [
        {
          "output_type": "execute_result",
          "data": {
            "text/plain": [
              "31"
            ]
          },
          "metadata": {},
          "execution_count": 43
        }
      ]
    },
    {
      "cell_type": "code",
      "metadata": {
        "id": "QRjWunqeouAI"
      },
      "source": [
        "Bat_df = BPL_df.loc[(BPL_df['toss_winner'] == BPL_df['winner']) & (BPL_df['toss_decision'] == 'Bat'), ['ID', 'winner','toss_decision']]"
      ],
      "execution_count": null,
      "outputs": []
    },
    {
      "cell_type": "code",
      "metadata": {
        "colab": {
          "base_uri": "https://localhost:8080/"
        },
        "id": "Z6IFs73foN06",
        "outputId": "93b8d568-de26-4cd6-cff1-32b74b3c01d9"
      },
      "source": [
        "Bat_df.winner.count()"
      ],
      "execution_count": null,
      "outputs": [
        {
          "output_type": "execute_result",
          "data": {
            "text/plain": [
              "7"
            ]
          },
          "metadata": {},
          "execution_count": 45
        }
      ]
    },
    {
      "cell_type": "code",
      "metadata": {
        "colab": {
          "base_uri": "https://localhost:8080/",
          "height": 143
        },
        "id": "Jx6sgFREo_Oo",
        "outputId": "a2c72e09-6302-4f8c-971d-358651d7b52c"
      },
      "source": [
        "frames = [Bat_df, Field_df]\n",
        "result_df = pd.concat(frames)\n",
        "result_df = result_df.groupby('toss_decision')[['ID']].count()\n",
        "result_df"
      ],
      "execution_count": null,
      "outputs": [
        {
          "output_type": "execute_result",
          "data": {
            "text/html": [
              "<div>\n",
              "<style scoped>\n",
              "    .dataframe tbody tr th:only-of-type {\n",
              "        vertical-align: middle;\n",
              "    }\n",
              "\n",
              "    .dataframe tbody tr th {\n",
              "        vertical-align: top;\n",
              "    }\n",
              "\n",
              "    .dataframe thead th {\n",
              "        text-align: right;\n",
              "    }\n",
              "</style>\n",
              "<table border=\"1\" class=\"dataframe\">\n",
              "  <thead>\n",
              "    <tr style=\"text-align: right;\">\n",
              "      <th></th>\n",
              "      <th>ID</th>\n",
              "    </tr>\n",
              "    <tr>\n",
              "      <th>toss_decision</th>\n",
              "      <th></th>\n",
              "    </tr>\n",
              "  </thead>\n",
              "  <tbody>\n",
              "    <tr>\n",
              "      <th>Bat</th>\n",
              "      <td>7</td>\n",
              "    </tr>\n",
              "    <tr>\n",
              "      <th>Field</th>\n",
              "      <td>31</td>\n",
              "    </tr>\n",
              "  </tbody>\n",
              "</table>\n",
              "</div>"
            ],
            "text/plain": [
              "               ID\n",
              "toss_decision    \n",
              "Bat             7\n",
              "Field          31"
            ]
          },
          "metadata": {},
          "execution_count": 46
        }
      ]
    },
    {
      "cell_type": "code",
      "metadata": {
        "colab": {
          "base_uri": "https://localhost:8080/",
          "height": 112
        },
        "id": "qxOCNBX4pGTv",
        "outputId": "9e6fe3e7-f745-4b4d-a589-e685c104f379"
      },
      "source": [
        "# Now Lets Plot the New Understanding Regarding the Success of these decisions\n",
        "result_df = result_df.sort_values('ID').reset_index()\n",
        "result_df.rename(columns={'ID':'Total','toss_decision':'Decision'},inplace=True)\n",
        "result_df"
      ],
      "execution_count": null,
      "outputs": [
        {
          "output_type": "execute_result",
          "data": {
            "text/html": [
              "<div>\n",
              "<style scoped>\n",
              "    .dataframe tbody tr th:only-of-type {\n",
              "        vertical-align: middle;\n",
              "    }\n",
              "\n",
              "    .dataframe tbody tr th {\n",
              "        vertical-align: top;\n",
              "    }\n",
              "\n",
              "    .dataframe thead th {\n",
              "        text-align: right;\n",
              "    }\n",
              "</style>\n",
              "<table border=\"1\" class=\"dataframe\">\n",
              "  <thead>\n",
              "    <tr style=\"text-align: right;\">\n",
              "      <th></th>\n",
              "      <th>Decision</th>\n",
              "      <th>Total</th>\n",
              "    </tr>\n",
              "  </thead>\n",
              "  <tbody>\n",
              "    <tr>\n",
              "      <th>0</th>\n",
              "      <td>Bat</td>\n",
              "      <td>7</td>\n",
              "    </tr>\n",
              "    <tr>\n",
              "      <th>1</th>\n",
              "      <td>Field</td>\n",
              "      <td>31</td>\n",
              "    </tr>\n",
              "  </tbody>\n",
              "</table>\n",
              "</div>"
            ],
            "text/plain": [
              "  Decision  Total\n",
              "0      Bat      7\n",
              "1    Field     31"
            ]
          },
          "metadata": {},
          "execution_count": 47
        }
      ]
    },
    {
      "cell_type": "code",
      "metadata": {
        "colab": {
          "base_uri": "https://localhost:8080/",
          "height": 662
        },
        "id": "L6um4WDUpRGL",
        "outputId": "8d55313b-e1d4-48aa-bfbb-b1347bc1c6a3"
      },
      "source": [
        "\n",
        "plt.figure(figsize=(10,10))\n",
        "plt.title(\"Decision Success\",fontweight='bold',fontsize=30)\n",
        "plt.xlabel('Decision',fontweight='bold',fontsize=30)\n",
        "plt.ylabel('Total',fontweight='bold',fontsize=30)\n",
        "plt.tick_params(labelsize=20)\n",
        "plt.bar(decision_df.Decision, decision_df.Total, color=['#4CC552','#4CC552']);\n",
        "plt.bar(result_df.Decision, result_df.Total, color=['#00FF00','#00FF00']);\n",
        "plt.legend(['Decision Taken','Decision Proved Right']);"
      ],
      "execution_count": null,
      "outputs": [
        {
          "output_type": "display_data",
          "data": {
            "image/png": "[encoded data removed]",
            "text/plain": [
              "<Figure size 720x720 with 1 Axes>"
            ]
          },
          "metadata": {
            "needs_background": "light"
          }
        }
      ]
    },
    {
      "cell_type": "code",
      "metadata": {
        "colab": {
          "base_uri": "https://localhost:8080/"
        },
        "id": "4C-toxKHpa7P",
        "outputId": "ecf4e0ad-4784-4cc3-a665-24d29027286f"
      },
      "source": [
        "# Lets see how many venues have hosted the Ipl Matches\n",
        "BPL_df.venue.unique()"
      ],
      "execution_count": null,
      "outputs": [
        {
          "output_type": "execute_result",
          "data": {
            "text/plain": [
              "array(['Sher-e-Bangla National Cricket', 'Zahur Ahmed Chowdhury Stadium',\n",
              "       'Sylhet International Cricket Stadium',\n",
              "       'Shere Bangla National Stadium',\n",
              "       'Sylhet International Cricket Stadiu',\n",
              "       'Sher-e Bangla National Stadium, Dhaka',\n",
              "       'Zahur Ahmed Chowdhury Stadium, Chattogram',\n",
              "       'Shere Bangla National Stadium, Dhaka'], dtype=object)"
            ]
          },
          "metadata": {},
          "execution_count": 49
        }
      ]
    },
    {
      "cell_type": "code",
      "metadata": {
        "colab": {
          "base_uri": "https://localhost:8080/"
        },
        "id": "1F9JULM-pnYw",
        "outputId": "25d786f5-b0a6-48a9-d12c-c8b6d4235ee3"
      },
      "source": [
        "total_venue = list(BPL_df.venue.unique())\n",
        "len(total_venue)"
      ],
      "execution_count": null,
      "outputs": [
        {
          "output_type": "execute_result",
          "data": {
            "text/plain": [
              "8"
            ]
          },
          "metadata": {},
          "execution_count": 50
        }
      ]
    },
    {
      "cell_type": "code",
      "metadata": {
        "id": "5oDd_SdupvmB"
      },
      "source": [
        "venue_df = BPL_df.groupby('venue')[['ID']].count()\n",
        "venue_df = venue_df.sort_values('ID',ascending=False).reset_index()\n",
        "venue_df.rename(columns={'ID':'Total','venue':'Stadium'},inplace=True)"
      ],
      "execution_count": null,
      "outputs": []
    },
    {
      "cell_type": "code",
      "metadata": {
        "colab": {
          "base_uri": "https://localhost:8080/",
          "height": 300
        },
        "id": "7voFgDbcqAj7",
        "outputId": "491562f5-6ef9-43ed-d453-fa3a35459951"
      },
      "source": [
        "labels = list(venue_df.Stadium)\n",
        "venue_df"
      ],
      "execution_count": null,
      "outputs": [
        {
          "output_type": "execute_result",
          "data": {
            "text/html": [
              "<div>\n",
              "<style scoped>\n",
              "    .dataframe tbody tr th:only-of-type {\n",
              "        vertical-align: middle;\n",
              "    }\n",
              "\n",
              "    .dataframe tbody tr th {\n",
              "        vertical-align: top;\n",
              "    }\n",
              "\n",
              "    .dataframe thead th {\n",
              "        text-align: right;\n",
              "    }\n",
              "</style>\n",
              "<table border=\"1\" class=\"dataframe\">\n",
              "  <thead>\n",
              "    <tr style=\"text-align: right;\">\n",
              "      <th></th>\n",
              "      <th>Stadium</th>\n",
              "      <th>Total</th>\n",
              "    </tr>\n",
              "  </thead>\n",
              "  <tbody>\n",
              "    <tr>\n",
              "      <th>0</th>\n",
              "      <td>Shere Bangla National Stadium</td>\n",
              "      <td>28</td>\n",
              "    </tr>\n",
              "    <tr>\n",
              "      <th>1</th>\n",
              "      <td>Zahur Ahmed Chowdhury Stadium</td>\n",
              "      <td>22</td>\n",
              "    </tr>\n",
              "    <tr>\n",
              "      <th>2</th>\n",
              "      <td>Sher-e-Bangla National Cricket</td>\n",
              "      <td>16</td>\n",
              "    </tr>\n",
              "    <tr>\n",
              "      <th>3</th>\n",
              "      <td>Sher-e Bangla National Stadium, Dhaka</td>\n",
              "      <td>10</td>\n",
              "    </tr>\n",
              "    <tr>\n",
              "      <th>4</th>\n",
              "      <td>Sylhet International Cricket Stadium</td>\n",
              "      <td>8</td>\n",
              "    </tr>\n",
              "    <tr>\n",
              "      <th>5</th>\n",
              "      <td>Zahur Ahmed Chowdhury Stadium, Chattogram</td>\n",
              "      <td>3</td>\n",
              "    </tr>\n",
              "    <tr>\n",
              "      <th>6</th>\n",
              "      <td>Shere Bangla National Stadium, Dhaka</td>\n",
              "      <td>1</td>\n",
              "    </tr>\n",
              "    <tr>\n",
              "      <th>7</th>\n",
              "      <td>Sylhet International Cricket Stadiu</td>\n",
              "      <td>1</td>\n",
              "    </tr>\n",
              "  </tbody>\n",
              "</table>\n",
              "</div>"
            ],
            "text/plain": [
              "                                     Stadium  Total\n",
              "0              Shere Bangla National Stadium     28\n",
              "1              Zahur Ahmed Chowdhury Stadium     22\n",
              "2             Sher-e-Bangla National Cricket     16\n",
              "3      Sher-e Bangla National Stadium, Dhaka     10\n",
              "4       Sylhet International Cricket Stadium      8\n",
              "5  Zahur Ahmed Chowdhury Stadium, Chattogram      3\n",
              "6       Shere Bangla National Stadium, Dhaka      1\n",
              "7        Sylhet International Cricket Stadiu      1"
            ]
          },
          "metadata": {},
          "execution_count": 53
        }
      ]
    },
    {
      "cell_type": "code",
      "metadata": {
        "colab": {
          "base_uri": "https://localhost:8080/",
          "height": 1000
        },
        "id": "1Mya_jAkqefw",
        "outputId": "b308e9ef-211b-4999-9936-7c0344e2400d"
      },
      "source": [
        "plt.figure(figsize=(20,20))\n",
        "plt.title(\"Venues\",fontweight='bold',fontsize=30)\n",
        "plt.tick_params(labelsize=40)\n",
        "plt.pie(venue_df.Total,labels=labels,textprops={'fontsize': 13});"
      ],
      "execution_count": null,
      "outputs": [
        {
          "output_type": "display_data",
          "data": {
            "image/png": "[encoded data removed]",
            "text/plain": [
              "<Figure size 1440x1440 with 1 Axes>"
            ]
          },
          "metadata": {}
        }
      ]
    },
    {
      "cell_type": "code",
      "metadata": {
        "colab": {
          "base_uri": "https://localhost:8080/"
        },
        "id": "RVAOWqUhqmaR",
        "outputId": "75594b15-3730-4568-ecb1-ed5631b3acdf"
      },
      "source": [
        "#Lets Check how many players have been awarded with player of the match award\n",
        "len(BPL_df.player_of_match.unique())"
      ],
      "execution_count": null,
      "outputs": [
        {
          "output_type": "execute_result",
          "data": {
            "text/plain": [
              "58"
            ]
          },
          "metadata": {},
          "execution_count": 55
        }
      ]
    },
    {
      "cell_type": "code",
      "metadata": {
        "id": "EEXh9d9Dq6FE"
      },
      "source": [
        "player_df = BPL_df.groupby('player_of_match')[['ID']].count()"
      ],
      "execution_count": null,
      "outputs": []
    },
    {
      "cell_type": "code",
      "metadata": {
        "colab": {
          "base_uri": "https://localhost:8080/",
          "height": 1000
        },
        "id": "HRJpEiwCq8LC",
        "outputId": "f9821f3e-b436-40a7-a08b-b6e8404a2d37"
      },
      "source": [
        "player_df"
      ],
      "execution_count": null,
      "outputs": [
        {
          "output_type": "execute_result",
          "data": {
            "text/html": [
              "<div>\n",
              "<style scoped>\n",
              "    .dataframe tbody tr th:only-of-type {\n",
              "        vertical-align: middle;\n",
              "    }\n",
              "\n",
              "    .dataframe tbody tr th {\n",
              "        vertical-align: top;\n",
              "    }\n",
              "\n",
              "    .dataframe thead th {\n",
              "        text-align: right;\n",
              "    }\n",
              "</style>\n",
              "<table border=\"1\" class=\"dataframe\">\n",
              "  <thead>\n",
              "    <tr style=\"text-align: right;\">\n",
              "      <th></th>\n",
              "      <th>ID</th>\n",
              "    </tr>\n",
              "    <tr>\n",
              "      <th>player_of_match</th>\n",
              "      <th></th>\n",
              "    </tr>\n",
              "  </thead>\n",
              "  <tbody>\n",
              "    <tr>\n",
              "      <th>Al Islam</th>\n",
              "      <td>1</td>\n",
              "    </tr>\n",
              "    <tr>\n",
              "      <th>Alok Kapali</th>\n",
              "      <td>1</td>\n",
              "    </tr>\n",
              "    <tr>\n",
              "      <th>Alok Kopali</th>\n",
              "      <td>1</td>\n",
              "    </tr>\n",
              "    <tr>\n",
              "      <th>Anamul Haque</th>\n",
              "      <td>1</td>\n",
              "    </tr>\n",
              "    <tr>\n",
              "      <th>Andre Fletcher</th>\n",
              "      <td>2</td>\n",
              "    </tr>\n",
              "    <tr>\n",
              "      <th>Andre Russell</th>\n",
              "      <td>2</td>\n",
              "    </tr>\n",
              "    <tr>\n",
              "      <th>Arafat Sunny</th>\n",
              "      <td>1</td>\n",
              "    </tr>\n",
              "    <tr>\n",
              "      <th>Cameron Delport</th>\n",
              "      <td>1</td>\n",
              "    </tr>\n",
              "    <tr>\n",
              "      <th>Chadwick Walton</th>\n",
              "      <td>1</td>\n",
              "    </tr>\n",
              "    <tr>\n",
              "      <th>Chris Gayle</th>\n",
              "      <td>2</td>\n",
              "    </tr>\n",
              "    <tr>\n",
              "      <th>Danushka Gunathilaka</th>\n",
              "      <td>1</td>\n",
              "    </tr>\n",
              "    <tr>\n",
              "      <th>Daren Sammy</th>\n",
              "      <td>1</td>\n",
              "    </tr>\n",
              "    <tr>\n",
              "      <th>Dasun Shanaka</th>\n",
              "      <td>1</td>\n",
              "    </tr>\n",
              "    <tr>\n",
              "      <th>Dawid Malan</th>\n",
              "      <td>5</td>\n",
              "    </tr>\n",
              "    <tr>\n",
              "      <th>Evin Lewis</th>\n",
              "      <td>2</td>\n",
              "    </tr>\n",
              "    <tr>\n",
              "      <th>Hazratullah Zazai</th>\n",
              "      <td>1</td>\n",
              "    </tr>\n",
              "    <tr>\n",
              "      <th>Imrul Kayes</th>\n",
              "      <td>5</td>\n",
              "    </tr>\n",
              "    <tr>\n",
              "      <th>Johnson Charles</th>\n",
              "      <td>1</td>\n",
              "    </tr>\n",
              "    <tr>\n",
              "      <th>Lewis Gregory</th>\n",
              "      <td>2</td>\n",
              "    </tr>\n",
              "    <tr>\n",
              "      <th>Mahedi Hasan</th>\n",
              "      <td>4</td>\n",
              "    </tr>\n",
              "    <tr>\n",
              "      <th>Mahmudullah</th>\n",
              "      <td>4</td>\n",
              "    </tr>\n",
              "    <tr>\n",
              "      <th>Mashrafe Mortaza</th>\n",
              "      <td>1</td>\n",
              "    </tr>\n",
              "    <tr>\n",
              "      <th>Mehedi Hasan Rana</th>\n",
              "      <td>2</td>\n",
              "    </tr>\n",
              "    <tr>\n",
              "      <th>Mehedi Maruf</th>\n",
              "      <td>1</td>\n",
              "    </tr>\n",
              "    <tr>\n",
              "      <th>Mehidy Hasan</th>\n",
              "      <td>1</td>\n",
              "    </tr>\n",
              "    <tr>\n",
              "      <th>Mohammad Mithun</th>\n",
              "      <td>1</td>\n",
              "    </tr>\n",
              "    <tr>\n",
              "      <th>Mohammad Nabi</th>\n",
              "      <td>2</td>\n",
              "    </tr>\n",
              "    <tr>\n",
              "      <th>Mohammad Naim</th>\n",
              "      <td>2</td>\n",
              "    </tr>\n",
              "    <tr>\n",
              "      <th>Mominul Haque</th>\n",
              "      <td>1</td>\n",
              "    </tr>\n",
              "    <tr>\n",
              "      <th>Mosaddek Hossain</th>\n",
              "      <td>1</td>\n",
              "    </tr>\n",
              "    <tr>\n",
              "      <th>Mosharraf Hossain</th>\n",
              "      <td>1</td>\n",
              "    </tr>\n",
              "    <tr>\n",
              "      <th>Mujeeb Ur Rahman</th>\n",
              "      <td>1</td>\n",
              "    </tr>\n",
              "    <tr>\n",
              "      <th>Mushfiqur Rahim</th>\n",
              "      <td>2</td>\n",
              "    </tr>\n",
              "    <tr>\n",
              "      <th>Mustafizur Rahaman</th>\n",
              "      <td>1</td>\n",
              "    </tr>\n",
              "    <tr>\n",
              "      <th>Mustafizur Rahman</th>\n",
              "      <td>1</td>\n",
              "    </tr>\n",
              "    <tr>\n",
              "      <th>Nazmul Islam</th>\n",
              "      <td>1</td>\n",
              "    </tr>\n",
              "    <tr>\n",
              "      <th>Nicholas Pooran</th>\n",
              "      <td>1</td>\n",
              "    </tr>\n",
              "    <tr>\n",
              "      <th>Rashid Khan</th>\n",
              "      <td>1</td>\n",
              "    </tr>\n",
              "    <tr>\n",
              "      <th>Ravi Bopara</th>\n",
              "      <td>2</td>\n",
              "    </tr>\n",
              "    <tr>\n",
              "      <th>Ravi Bopra</th>\n",
              "      <td>2</td>\n",
              "    </tr>\n",
              "    <tr>\n",
              "      <th>Rilee Rossouw</th>\n",
              "      <td>1</td>\n",
              "    </tr>\n",
              "    <tr>\n",
              "      <th>Robbie Frylinck</th>\n",
              "      <td>2</td>\n",
              "    </tr>\n",
              "    <tr>\n",
              "      <th>Rubel Hossain</th>\n",
              "      <td>1</td>\n",
              "    </tr>\n",
              "    <tr>\n",
              "      <th>Sabbir Rahman</th>\n",
              "      <td>1</td>\n",
              "    </tr>\n",
              "    <tr>\n",
              "      <th>Samit Patel</th>\n",
              "      <td>2</td>\n",
              "    </tr>\n",
              "    <tr>\n",
              "      <th>Shafiul Islam</th>\n",
              "      <td>2</td>\n",
              "    </tr>\n",
              "    <tr>\n",
              "      <th>Shahid Afridi</th>\n",
              "      <td>3</td>\n",
              "    </tr>\n",
              "    <tr>\n",
              "      <th>Shahidul Islam</th>\n",
              "      <td>1</td>\n",
              "    </tr>\n",
              "    <tr>\n",
              "      <th>Shakib Al Hasan</th>\n",
              "      <td>1</td>\n",
              "    </tr>\n",
              "    <tr>\n",
              "      <th>Shoaib Malik</th>\n",
              "      <td>2</td>\n",
              "    </tr>\n",
              "    <tr>\n",
              "      <th>Sunil Narine</th>\n",
              "      <td>1</td>\n",
              "    </tr>\n",
              "    <tr>\n",
              "      <th>Taijul Islam</th>\n",
              "      <td>1</td>\n",
              "    </tr>\n",
              "    <tr>\n",
              "      <th>Tamim Iqbal</th>\n",
              "      <td>1</td>\n",
              "    </tr>\n",
              "    <tr>\n",
              "      <th>Thisara Perera</th>\n",
              "      <td>1</td>\n",
              "    </tr>\n",
              "    <tr>\n",
              "      <th>Upul Tharanga</th>\n",
              "      <td>1</td>\n",
              "    </tr>\n",
              "    <tr>\n",
              "      <th>Wahab Riaz</th>\n",
              "      <td>1</td>\n",
              "    </tr>\n",
              "    <tr>\n",
              "      <th>Zakir Hasan</th>\n",
              "      <td>1</td>\n",
              "    </tr>\n",
              "  </tbody>\n",
              "</table>\n",
              "</div>"
            ],
            "text/plain": [
              "                      ID\n",
              "player_of_match         \n",
              "Al Islam               1\n",
              "Alok Kapali            1\n",
              "Alok Kopali            1\n",
              "Anamul Haque           1\n",
              "Andre Fletcher         2\n",
              "Andre Russell          2\n",
              "Arafat Sunny           1\n",
              "Cameron Delport        1\n",
              "Chadwick Walton        1\n",
              "Chris Gayle            2\n",
              "Danushka Gunathilaka   1\n",
              "Daren Sammy            1\n",
              "Dasun Shanaka          1\n",
              "Dawid Malan            5\n",
              "Evin Lewis             2\n",
              "Hazratullah Zazai      1\n",
              "Imrul Kayes            5\n",
              "Johnson Charles        1\n",
              "Lewis Gregory          2\n",
              "Mahedi Hasan           4\n",
              "Mahmudullah            4\n",
              "Mashrafe Mortaza       1\n",
              "Mehedi Hasan Rana      2\n",
              "Mehedi Maruf           1\n",
              "Mehidy Hasan           1\n",
              "Mohammad Mithun        1\n",
              "Mohammad Nabi          2\n",
              "Mohammad Naim          2\n",
              "Mominul Haque          1\n",
              "Mosaddek Hossain       1\n",
              "Mosharraf Hossain      1\n",
              "Mujeeb Ur Rahman       1\n",
              "Mushfiqur Rahim        2\n",
              "Mustafizur Rahaman     1\n",
              "Mustafizur Rahman      1\n",
              "Nazmul Islam           1\n",
              "Nicholas Pooran        1\n",
              "Rashid Khan            1\n",
              "Ravi Bopara            2\n",
              "Ravi Bopra             2\n",
              "Rilee Rossouw          1\n",
              "Robbie Frylinck        2\n",
              "Rubel Hossain          1\n",
              "Sabbir Rahman          1\n",
              "Samit Patel            2\n",
              "Shafiul Islam          2\n",
              "Shahid Afridi          3\n",
              "Shahidul Islam         1\n",
              "Shakib Al Hasan        1\n",
              "Shoaib Malik           2\n",
              "Sunil Narine           1\n",
              "Taijul Islam           1\n",
              "Tamim Iqbal            1\n",
              "Thisara Perera         1\n",
              "Upul Tharanga          1\n",
              "Wahab Riaz             1\n",
              "Zakir Hasan            1"
            ]
          },
          "metadata": {},
          "execution_count": 57
        }
      ]
    },
    {
      "cell_type": "code",
      "metadata": {
        "id": "_uW7dUk4rEpk"
      },
      "source": [
        "player_df = player_df.sort_values('ID',ascending=False).reset_index()"
      ],
      "execution_count": null,
      "outputs": []
    },
    {
      "cell_type": "code",
      "metadata": {
        "colab": {
          "base_uri": "https://localhost:8080/",
          "height": 1000
        },
        "id": "pE5FI53-rJuc",
        "outputId": "3329a6c4-48ae-42aa-cf6c-df35ea1c6b7d"
      },
      "source": [
        "player_df"
      ],
      "execution_count": null,
      "outputs": [
        {
          "output_type": "execute_result",
          "data": {
            "text/html": [
              "<div>\n",
              "<style scoped>\n",
              "    .dataframe tbody tr th:only-of-type {\n",
              "        vertical-align: middle;\n",
              "    }\n",
              "\n",
              "    .dataframe tbody tr th {\n",
              "        vertical-align: top;\n",
              "    }\n",
              "\n",
              "    .dataframe thead th {\n",
              "        text-align: right;\n",
              "    }\n",
              "</style>\n",
              "<table border=\"1\" class=\"dataframe\">\n",
              "  <thead>\n",
              "    <tr style=\"text-align: right;\">\n",
              "      <th></th>\n",
              "      <th>player_of_match</th>\n",
              "      <th>ID</th>\n",
              "    </tr>\n",
              "  </thead>\n",
              "  <tbody>\n",
              "    <tr>\n",
              "      <th>0</th>\n",
              "      <td>Imrul Kayes</td>\n",
              "      <td>5</td>\n",
              "    </tr>\n",
              "    <tr>\n",
              "      <th>1</th>\n",
              "      <td>Dawid Malan</td>\n",
              "      <td>5</td>\n",
              "    </tr>\n",
              "    <tr>\n",
              "      <th>2</th>\n",
              "      <td>Mahmudullah</td>\n",
              "      <td>4</td>\n",
              "    </tr>\n",
              "    <tr>\n",
              "      <th>3</th>\n",
              "      <td>Mahedi Hasan</td>\n",
              "      <td>4</td>\n",
              "    </tr>\n",
              "    <tr>\n",
              "      <th>4</th>\n",
              "      <td>Shahid Afridi</td>\n",
              "      <td>3</td>\n",
              "    </tr>\n",
              "    <tr>\n",
              "      <th>5</th>\n",
              "      <td>Shoaib Malik</td>\n",
              "      <td>2</td>\n",
              "    </tr>\n",
              "    <tr>\n",
              "      <th>6</th>\n",
              "      <td>Mehedi Hasan Rana</td>\n",
              "      <td>2</td>\n",
              "    </tr>\n",
              "    <tr>\n",
              "      <th>7</th>\n",
              "      <td>Shafiul Islam</td>\n",
              "      <td>2</td>\n",
              "    </tr>\n",
              "    <tr>\n",
              "      <th>8</th>\n",
              "      <td>Lewis Gregory</td>\n",
              "      <td>2</td>\n",
              "    </tr>\n",
              "    <tr>\n",
              "      <th>9</th>\n",
              "      <td>Mohammad Nabi</td>\n",
              "      <td>2</td>\n",
              "    </tr>\n",
              "    <tr>\n",
              "      <th>10</th>\n",
              "      <td>Evin Lewis</td>\n",
              "      <td>2</td>\n",
              "    </tr>\n",
              "    <tr>\n",
              "      <th>11</th>\n",
              "      <td>Mohammad Naim</td>\n",
              "      <td>2</td>\n",
              "    </tr>\n",
              "    <tr>\n",
              "      <th>12</th>\n",
              "      <td>Robbie Frylinck</td>\n",
              "      <td>2</td>\n",
              "    </tr>\n",
              "    <tr>\n",
              "      <th>13</th>\n",
              "      <td>Chris Gayle</td>\n",
              "      <td>2</td>\n",
              "    </tr>\n",
              "    <tr>\n",
              "      <th>14</th>\n",
              "      <td>Ravi Bopra</td>\n",
              "      <td>2</td>\n",
              "    </tr>\n",
              "    <tr>\n",
              "      <th>15</th>\n",
              "      <td>Ravi Bopara</td>\n",
              "      <td>2</td>\n",
              "    </tr>\n",
              "    <tr>\n",
              "      <th>16</th>\n",
              "      <td>Andre Russell</td>\n",
              "      <td>2</td>\n",
              "    </tr>\n",
              "    <tr>\n",
              "      <th>17</th>\n",
              "      <td>Andre Fletcher</td>\n",
              "      <td>2</td>\n",
              "    </tr>\n",
              "    <tr>\n",
              "      <th>18</th>\n",
              "      <td>Mushfiqur Rahim</td>\n",
              "      <td>2</td>\n",
              "    </tr>\n",
              "    <tr>\n",
              "      <th>19</th>\n",
              "      <td>Samit Patel</td>\n",
              "      <td>2</td>\n",
              "    </tr>\n",
              "    <tr>\n",
              "      <th>20</th>\n",
              "      <td>Sabbir Rahman</td>\n",
              "      <td>1</td>\n",
              "    </tr>\n",
              "    <tr>\n",
              "      <th>21</th>\n",
              "      <td>Rilee Rossouw</td>\n",
              "      <td>1</td>\n",
              "    </tr>\n",
              "    <tr>\n",
              "      <th>22</th>\n",
              "      <td>Rubel Hossain</td>\n",
              "      <td>1</td>\n",
              "    </tr>\n",
              "    <tr>\n",
              "      <th>23</th>\n",
              "      <td>Rashid Khan</td>\n",
              "      <td>1</td>\n",
              "    </tr>\n",
              "    <tr>\n",
              "      <th>24</th>\n",
              "      <td>Al Islam</td>\n",
              "      <td>1</td>\n",
              "    </tr>\n",
              "    <tr>\n",
              "      <th>25</th>\n",
              "      <td>Nazmul Islam</td>\n",
              "      <td>1</td>\n",
              "    </tr>\n",
              "    <tr>\n",
              "      <th>26</th>\n",
              "      <td>Shahidul Islam</td>\n",
              "      <td>1</td>\n",
              "    </tr>\n",
              "    <tr>\n",
              "      <th>27</th>\n",
              "      <td>Shakib Al Hasan</td>\n",
              "      <td>1</td>\n",
              "    </tr>\n",
              "    <tr>\n",
              "      <th>28</th>\n",
              "      <td>Sunil Narine</td>\n",
              "      <td>1</td>\n",
              "    </tr>\n",
              "    <tr>\n",
              "      <th>29</th>\n",
              "      <td>Taijul Islam</td>\n",
              "      <td>1</td>\n",
              "    </tr>\n",
              "    <tr>\n",
              "      <th>30</th>\n",
              "      <td>Tamim Iqbal</td>\n",
              "      <td>1</td>\n",
              "    </tr>\n",
              "    <tr>\n",
              "      <th>31</th>\n",
              "      <td>Thisara Perera</td>\n",
              "      <td>1</td>\n",
              "    </tr>\n",
              "    <tr>\n",
              "      <th>32</th>\n",
              "      <td>Upul Tharanga</td>\n",
              "      <td>1</td>\n",
              "    </tr>\n",
              "    <tr>\n",
              "      <th>33</th>\n",
              "      <td>Wahab Riaz</td>\n",
              "      <td>1</td>\n",
              "    </tr>\n",
              "    <tr>\n",
              "      <th>34</th>\n",
              "      <td>Nicholas Pooran</td>\n",
              "      <td>1</td>\n",
              "    </tr>\n",
              "    <tr>\n",
              "      <th>35</th>\n",
              "      <td>Mominul Haque</td>\n",
              "      <td>1</td>\n",
              "    </tr>\n",
              "    <tr>\n",
              "      <th>36</th>\n",
              "      <td>Mustafizur Rahman</td>\n",
              "      <td>1</td>\n",
              "    </tr>\n",
              "    <tr>\n",
              "      <th>37</th>\n",
              "      <td>Hazratullah Zazai</td>\n",
              "      <td>1</td>\n",
              "    </tr>\n",
              "    <tr>\n",
              "      <th>38</th>\n",
              "      <td>Alok Kopali</td>\n",
              "      <td>1</td>\n",
              "    </tr>\n",
              "    <tr>\n",
              "      <th>39</th>\n",
              "      <td>Anamul Haque</td>\n",
              "      <td>1</td>\n",
              "    </tr>\n",
              "    <tr>\n",
              "      <th>40</th>\n",
              "      <td>Arafat Sunny</td>\n",
              "      <td>1</td>\n",
              "    </tr>\n",
              "    <tr>\n",
              "      <th>41</th>\n",
              "      <td>Cameron Delport</td>\n",
              "      <td>1</td>\n",
              "    </tr>\n",
              "    <tr>\n",
              "      <th>42</th>\n",
              "      <td>Chadwick Walton</td>\n",
              "      <td>1</td>\n",
              "    </tr>\n",
              "    <tr>\n",
              "      <th>43</th>\n",
              "      <td>Danushka Gunathilaka</td>\n",
              "      <td>1</td>\n",
              "    </tr>\n",
              "    <tr>\n",
              "      <th>44</th>\n",
              "      <td>Daren Sammy</td>\n",
              "      <td>1</td>\n",
              "    </tr>\n",
              "    <tr>\n",
              "      <th>45</th>\n",
              "      <td>Dasun Shanaka</td>\n",
              "      <td>1</td>\n",
              "    </tr>\n",
              "    <tr>\n",
              "      <th>46</th>\n",
              "      <td>Johnson Charles</td>\n",
              "      <td>1</td>\n",
              "    </tr>\n",
              "    <tr>\n",
              "      <th>47</th>\n",
              "      <td>Mustafizur Rahaman</td>\n",
              "      <td>1</td>\n",
              "    </tr>\n",
              "    <tr>\n",
              "      <th>48</th>\n",
              "      <td>Mashrafe Mortaza</td>\n",
              "      <td>1</td>\n",
              "    </tr>\n",
              "    <tr>\n",
              "      <th>49</th>\n",
              "      <td>Mehedi Maruf</td>\n",
              "      <td>1</td>\n",
              "    </tr>\n",
              "    <tr>\n",
              "      <th>50</th>\n",
              "      <td>Mehidy Hasan</td>\n",
              "      <td>1</td>\n",
              "    </tr>\n",
              "    <tr>\n",
              "      <th>51</th>\n",
              "      <td>Mohammad Mithun</td>\n",
              "      <td>1</td>\n",
              "    </tr>\n",
              "    <tr>\n",
              "      <th>52</th>\n",
              "      <td>Alok Kapali</td>\n",
              "      <td>1</td>\n",
              "    </tr>\n",
              "    <tr>\n",
              "      <th>53</th>\n",
              "      <td>Mosaddek Hossain</td>\n",
              "      <td>1</td>\n",
              "    </tr>\n",
              "    <tr>\n",
              "      <th>54</th>\n",
              "      <td>Mosharraf Hossain</td>\n",
              "      <td>1</td>\n",
              "    </tr>\n",
              "    <tr>\n",
              "      <th>55</th>\n",
              "      <td>Mujeeb Ur Rahman</td>\n",
              "      <td>1</td>\n",
              "    </tr>\n",
              "    <tr>\n",
              "      <th>56</th>\n",
              "      <td>Zakir Hasan</td>\n",
              "      <td>1</td>\n",
              "    </tr>\n",
              "  </tbody>\n",
              "</table>\n",
              "</div>"
            ],
            "text/plain": [
              "         player_of_match  ID\n",
              "0            Imrul Kayes   5\n",
              "1            Dawid Malan   5\n",
              "2            Mahmudullah   4\n",
              "3           Mahedi Hasan   4\n",
              "4          Shahid Afridi   3\n",
              "5           Shoaib Malik   2\n",
              "6      Mehedi Hasan Rana   2\n",
              "7          Shafiul Islam   2\n",
              "8          Lewis Gregory   2\n",
              "9          Mohammad Nabi   2\n",
              "10            Evin Lewis   2\n",
              "11         Mohammad Naim   2\n",
              "12       Robbie Frylinck   2\n",
              "13           Chris Gayle   2\n",
              "14            Ravi Bopra   2\n",
              "15           Ravi Bopara   2\n",
              "16         Andre Russell   2\n",
              "17        Andre Fletcher   2\n",
              "18       Mushfiqur Rahim   2\n",
              "19           Samit Patel   2\n",
              "20         Sabbir Rahman   1\n",
              "21         Rilee Rossouw   1\n",
              "22         Rubel Hossain   1\n",
              "23           Rashid Khan   1\n",
              "24              Al Islam   1\n",
              "25          Nazmul Islam   1\n",
              "26        Shahidul Islam   1\n",
              "27       Shakib Al Hasan   1\n",
              "28          Sunil Narine   1\n",
              "29          Taijul Islam   1\n",
              "30           Tamim Iqbal   1\n",
              "31        Thisara Perera   1\n",
              "32         Upul Tharanga   1\n",
              "33            Wahab Riaz   1\n",
              "34       Nicholas Pooran   1\n",
              "35         Mominul Haque   1\n",
              "36     Mustafizur Rahman   1\n",
              "37     Hazratullah Zazai   1\n",
              "38           Alok Kopali   1\n",
              "39          Anamul Haque   1\n",
              "40          Arafat Sunny   1\n",
              "41       Cameron Delport   1\n",
              "42       Chadwick Walton   1\n",
              "43  Danushka Gunathilaka   1\n",
              "44           Daren Sammy   1\n",
              "45         Dasun Shanaka   1\n",
              "46       Johnson Charles   1\n",
              "47    Mustafizur Rahaman   1\n",
              "48      Mashrafe Mortaza   1\n",
              "49          Mehedi Maruf   1\n",
              "50          Mehidy Hasan   1\n",
              "51       Mohammad Mithun   1\n",
              "52           Alok Kapali   1\n",
              "53      Mosaddek Hossain   1\n",
              "54     Mosharraf Hossain   1\n",
              "55      Mujeeb Ur Rahman   1\n",
              "56           Zakir Hasan   1"
            ]
          },
          "metadata": {},
          "execution_count": 59
        }
      ]
    },
    {
      "cell_type": "code",
      "metadata": {
        "colab": {
          "base_uri": "https://localhost:8080/",
          "height": 726
        },
        "id": "pJDUWDx2rY8g",
        "outputId": "02ef8a42-1a5c-4f68-c3a9-f2931c79303f"
      },
      "source": [
        "\n",
        "plt.figure(figsize=(15,10))\n",
        "plt.title(\"Top 10 Players with Highest Man Of the Match Titles\",fontweight='bold' )\n",
        "plt.xticks(rotation=90)\n",
        "plt.yticks(ticks=np.arange(0,25,5))\n",
        "plt.ylabel('No. of Awards')\n",
        "plt.xlabel('Players')\n",
        "sns.barplot(x=player_df.player_of_match,y=player_df.ID, alpha=0.6);"
      ],
      "execution_count": null,
      "outputs": [
        {
          "output_type": "display_data",
          "data": {
            "image/png": "[encoded data removed]",
            "text/plain": [
              "<Figure size 1080x720 with 1 Axes>"
            ]
          },
          "metadata": {
            "needs_background": "light"
          }
        }
      ]
    },
    {
      "cell_type": "code",
      "metadata": {
        "id": "JZGhvlnJwDbW"
      },
      "source": [
        "final_df = BPL_df.groupby('season').tail(1).copy()"
      ],
      "execution_count": null,
      "outputs": []
    },
    {
      "cell_type": "code",
      "metadata": {
        "colab": {
          "base_uri": "https://localhost:8080/",
          "height": 293
        },
        "id": "yr2wduZxwUJc",
        "outputId": "ebd9fff8-ca43-4fa0-8f80-4cd9d4c90474"
      },
      "source": [
        "final_df\n"
      ],
      "execution_count": null,
      "outputs": [
        {
          "output_type": "execute_result",
          "data": {
            "text/html": [
              "<div>\n",
              "<style scoped>\n",
              "    .dataframe tbody tr th:only-of-type {\n",
              "        vertical-align: middle;\n",
              "    }\n",
              "\n",
              "    .dataframe tbody tr th {\n",
              "        vertical-align: top;\n",
              "    }\n",
              "\n",
              "    .dataframe thead th {\n",
              "        text-align: right;\n",
              "    }\n",
              "</style>\n",
              "<table border=\"1\" class=\"dataframe\">\n",
              "  <thead>\n",
              "    <tr style=\"text-align: right;\">\n",
              "      <th></th>\n",
              "      <th>ID</th>\n",
              "      <th>season</th>\n",
              "      <th>city</th>\n",
              "      <th>date</th>\n",
              "      <th>team1</th>\n",
              "      <th>team2</th>\n",
              "      <th>toss_winner</th>\n",
              "      <th>toss_decision</th>\n",
              "      <th>result</th>\n",
              "      <th>dl_applied</th>\n",
              "      <th>winner</th>\n",
              "      <th>win_by_runs</th>\n",
              "      <th>win_by_wickets</th>\n",
              "      <th>player_of_match</th>\n",
              "      <th>venue</th>\n",
              "    </tr>\n",
              "  </thead>\n",
              "  <tbody>\n",
              "    <tr>\n",
              "      <th>29</th>\n",
              "      <td>30</td>\n",
              "      <td>2020</td>\n",
              "      <td>Sylhet</td>\n",
              "      <td>2/1/2020</td>\n",
              "      <td>Cumilla Warriors</td>\n",
              "      <td>Sylhet Thunder</td>\n",
              "      <td>Sylhet Thunder</td>\n",
              "      <td>Field</td>\n",
              "      <td>Super Over</td>\n",
              "      <td>0</td>\n",
              "      <td>Cumilla Warriors</td>\n",
              "      <td>0.0</td>\n",
              "      <td>0.0</td>\n",
              "      <td>Mujeeb Ur Rahman</td>\n",
              "      <td>Sylhet International Cricket Stadium</td>\n",
              "    </tr>\n",
              "    <tr>\n",
              "      <th>44</th>\n",
              "      <td>45</td>\n",
              "      <td>2019</td>\n",
              "      <td>Sylhet</td>\n",
              "      <td>Jan 2,2020</td>\n",
              "      <td>Rajshahi Royals</td>\n",
              "      <td>Rangpur Rangers</td>\n",
              "      <td>Rangpur Rangers</td>\n",
              "      <td>Field</td>\n",
              "      <td>Normal</td>\n",
              "      <td>0</td>\n",
              "      <td>Rajshahi Royals</td>\n",
              "      <td>30.0</td>\n",
              "      <td>0.0</td>\n",
              "      <td>Ravi Bopra</td>\n",
              "      <td>Sylhet International Cricket Stadium</td>\n",
              "    </tr>\n",
              "    <tr>\n",
              "      <th>58</th>\n",
              "      <td>59</td>\n",
              "      <td>2018</td>\n",
              "      <td>Dhaka</td>\n",
              "      <td>Feb 8,2019</td>\n",
              "      <td>Rangpur Riders</td>\n",
              "      <td>Dhaka Dynamites</td>\n",
              "      <td>Dhaka Dynamites</td>\n",
              "      <td>Field</td>\n",
              "      <td>Normal</td>\n",
              "      <td>0</td>\n",
              "      <td>Comilla Victorians</td>\n",
              "      <td>17.0</td>\n",
              "      <td>0.0</td>\n",
              "      <td>Tamim Iqbal</td>\n",
              "      <td>Shere Bangla National Stadium</td>\n",
              "    </tr>\n",
              "    <tr>\n",
              "      <th>74</th>\n",
              "      <td>75</td>\n",
              "      <td>2017</td>\n",
              "      <td>Dhaka</td>\n",
              "      <td>12 Dec,2917</td>\n",
              "      <td>DHAKA DYNAMITES</td>\n",
              "      <td>RANGPUR RIDERS</td>\n",
              "      <td>Dhaka Dynamites</td>\n",
              "      <td>Field</td>\n",
              "      <td>Normal</td>\n",
              "      <td>0</td>\n",
              "      <td>RANGPUR RIDERS</td>\n",
              "      <td>57.0</td>\n",
              "      <td>0.0</td>\n",
              "      <td>Chris Gayle</td>\n",
              "      <td>Shere Bangla National Stadium</td>\n",
              "    </tr>\n",
              "    <tr>\n",
              "      <th>88</th>\n",
              "      <td>89</td>\n",
              "      <td>2016</td>\n",
              "      <td>Dhaka</td>\n",
              "      <td>9 Nov,2016</td>\n",
              "      <td>DHAKA DYNAMITES</td>\n",
              "      <td>RAJSHAHI KINGS</td>\n",
              "      <td>Rajshahi Kings</td>\n",
              "      <td>Field</td>\n",
              "      <td>Normal</td>\n",
              "      <td>0</td>\n",
              "      <td>DHAKA DYNAMITES</td>\n",
              "      <td>56.0</td>\n",
              "      <td>0.0</td>\n",
              "      <td>Mahmudullah</td>\n",
              "      <td>Sher-e Bangla National Stadium, Dhaka</td>\n",
              "    </tr>\n",
              "  </tbody>\n",
              "</table>\n",
              "</div>"
            ],
            "text/plain": [
              "    ID  season  ...   player_of_match                                  venue\n",
              "29  30    2020  ...  Mujeeb Ur Rahman   Sylhet International Cricket Stadium\n",
              "44  45    2019  ...        Ravi Bopra   Sylhet International Cricket Stadium\n",
              "58  59    2018  ...       Tamim Iqbal          Shere Bangla National Stadium\n",
              "74  75    2017  ...       Chris Gayle          Shere Bangla National Stadium\n",
              "88  89    2016  ...       Mahmudullah  Sher-e Bangla National Stadium, Dhaka\n",
              "\n",
              "[5 rows x 15 columns]"
            ]
          },
          "metadata": {},
          "execution_count": 71
        }
      ]
    },
    {
      "cell_type": "code",
      "metadata": {
        "colab": {
          "base_uri": "https://localhost:8080/",
          "height": 293
        },
        "id": "snSrCIIHwYdV",
        "outputId": "e7f18e07-76e2-45b9-9cc5-86f8f26ef790"
      },
      "source": [
        "#Now Lets sort The Data According to Seasons\n",
        "final_df = final_df.sort_values('season')\n",
        "final_df"
      ],
      "execution_count": null,
      "outputs": [
        {
          "output_type": "execute_result",
          "data": {
            "text/html": [
              "<div>\n",
              "<style scoped>\n",
              "    .dataframe tbody tr th:only-of-type {\n",
              "        vertical-align: middle;\n",
              "    }\n",
              "\n",
              "    .dataframe tbody tr th {\n",
              "        vertical-align: top;\n",
              "    }\n",
              "\n",
              "    .dataframe thead th {\n",
              "        text-align: right;\n",
              "    }\n",
              "</style>\n",
              "<table border=\"1\" class=\"dataframe\">\n",
              "  <thead>\n",
              "    <tr style=\"text-align: right;\">\n",
              "      <th></th>\n",
              "      <th>ID</th>\n",
              "      <th>season</th>\n",
              "      <th>city</th>\n",
              "      <th>date</th>\n",
              "      <th>team1</th>\n",
              "      <th>team2</th>\n",
              "      <th>toss_winner</th>\n",
              "      <th>toss_decision</th>\n",
              "      <th>result</th>\n",
              "      <th>dl_applied</th>\n",
              "      <th>winner</th>\n",
              "      <th>win_by_runs</th>\n",
              "      <th>win_by_wickets</th>\n",
              "      <th>player_of_match</th>\n",
              "      <th>venue</th>\n",
              "    </tr>\n",
              "  </thead>\n",
              "  <tbody>\n",
              "    <tr>\n",
              "      <th>88</th>\n",
              "      <td>89</td>\n",
              "      <td>2016</td>\n",
              "      <td>Dhaka</td>\n",
              "      <td>9 Nov,2016</td>\n",
              "      <td>DHAKA DYNAMITES</td>\n",
              "      <td>RAJSHAHI KINGS</td>\n",
              "      <td>Rajshahi Kings</td>\n",
              "      <td>Field</td>\n",
              "      <td>Normal</td>\n",
              "      <td>0</td>\n",
              "      <td>DHAKA DYNAMITES</td>\n",
              "      <td>56.0</td>\n",
              "      <td>0.0</td>\n",
              "      <td>Mahmudullah</td>\n",
              "      <td>Sher-e Bangla National Stadium, Dhaka</td>\n",
              "    </tr>\n",
              "    <tr>\n",
              "      <th>74</th>\n",
              "      <td>75</td>\n",
              "      <td>2017</td>\n",
              "      <td>Dhaka</td>\n",
              "      <td>12 Dec,2917</td>\n",
              "      <td>DHAKA DYNAMITES</td>\n",
              "      <td>RANGPUR RIDERS</td>\n",
              "      <td>Dhaka Dynamites</td>\n",
              "      <td>Field</td>\n",
              "      <td>Normal</td>\n",
              "      <td>0</td>\n",
              "      <td>RANGPUR RIDERS</td>\n",
              "      <td>57.0</td>\n",
              "      <td>0.0</td>\n",
              "      <td>Chris Gayle</td>\n",
              "      <td>Shere Bangla National Stadium</td>\n",
              "    </tr>\n",
              "    <tr>\n",
              "      <th>58</th>\n",
              "      <td>59</td>\n",
              "      <td>2018</td>\n",
              "      <td>Dhaka</td>\n",
              "      <td>Feb 8,2019</td>\n",
              "      <td>Rangpur Riders</td>\n",
              "      <td>Dhaka Dynamites</td>\n",
              "      <td>Dhaka Dynamites</td>\n",
              "      <td>Field</td>\n",
              "      <td>Normal</td>\n",
              "      <td>0</td>\n",
              "      <td>Comilla Victorians</td>\n",
              "      <td>17.0</td>\n",
              "      <td>0.0</td>\n",
              "      <td>Tamim Iqbal</td>\n",
              "      <td>Shere Bangla National Stadium</td>\n",
              "    </tr>\n",
              "    <tr>\n",
              "      <th>44</th>\n",
              "      <td>45</td>\n",
              "      <td>2019</td>\n",
              "      <td>Sylhet</td>\n",
              "      <td>Jan 2,2020</td>\n",
              "      <td>Rajshahi Royals</td>\n",
              "      <td>Rangpur Rangers</td>\n",
              "      <td>Rangpur Rangers</td>\n",
              "      <td>Field</td>\n",
              "      <td>Normal</td>\n",
              "      <td>0</td>\n",
              "      <td>Rajshahi Royals</td>\n",
              "      <td>30.0</td>\n",
              "      <td>0.0</td>\n",
              "      <td>Ravi Bopra</td>\n",
              "      <td>Sylhet International Cricket Stadium</td>\n",
              "    </tr>\n",
              "    <tr>\n",
              "      <th>29</th>\n",
              "      <td>30</td>\n",
              "      <td>2020</td>\n",
              "      <td>Sylhet</td>\n",
              "      <td>2/1/2020</td>\n",
              "      <td>Cumilla Warriors</td>\n",
              "      <td>Sylhet Thunder</td>\n",
              "      <td>Sylhet Thunder</td>\n",
              "      <td>Field</td>\n",
              "      <td>Super Over</td>\n",
              "      <td>0</td>\n",
              "      <td>Cumilla Warriors</td>\n",
              "      <td>0.0</td>\n",
              "      <td>0.0</td>\n",
              "      <td>Mujeeb Ur Rahman</td>\n",
              "      <td>Sylhet International Cricket Stadium</td>\n",
              "    </tr>\n",
              "  </tbody>\n",
              "</table>\n",
              "</div>"
            ],
            "text/plain": [
              "    ID  season  ...   player_of_match                                  venue\n",
              "88  89    2016  ...       Mahmudullah  Sher-e Bangla National Stadium, Dhaka\n",
              "74  75    2017  ...       Chris Gayle          Shere Bangla National Stadium\n",
              "58  59    2018  ...       Tamim Iqbal          Shere Bangla National Stadium\n",
              "44  45    2019  ...        Ravi Bopra   Sylhet International Cricket Stadium\n",
              "29  30    2020  ...  Mujeeb Ur Rahman   Sylhet International Cricket Stadium\n",
              "\n",
              "[5 rows x 15 columns]"
            ]
          },
          "metadata": {},
          "execution_count": 72
        }
      ]
    },
    {
      "cell_type": "code",
      "metadata": {
        "colab": {
          "base_uri": "https://localhost:8080/"
        },
        "id": "1pnQ-8t8wo3B",
        "outputId": "0218c57a-6ce4-439e-8605-b56deb19e900"
      },
      "source": [
        "final_df.winner.unique()"
      ],
      "execution_count": null,
      "outputs": [
        {
          "output_type": "execute_result",
          "data": {
            "text/plain": [
              "array(['DHAKA DYNAMITES', 'RANGPUR RIDERS', 'Comilla Victorians',\n",
              "       'Rajshahi Royals', 'Cumilla Warriors'], dtype=object)"
            ]
          },
          "metadata": {},
          "execution_count": 73
        }
      ]
    },
    {
      "cell_type": "code",
      "metadata": {
        "colab": {
          "base_uri": "https://localhost:8080/"
        },
        "id": "cAIuOTwlwtyY",
        "outputId": "e86aad15-7b9d-4627-f017-423cff81f4f4"
      },
      "source": [
        "final_df['winner'].value_counts()"
      ],
      "execution_count": null,
      "outputs": [
        {
          "output_type": "execute_result",
          "data": {
            "text/plain": [
              "Rajshahi Royals       1\n",
              "Cumilla Warriors      1\n",
              "Comilla Victorians    1\n",
              "RANGPUR RIDERS        1\n",
              "DHAKA DYNAMITES       1\n",
              "Name: winner, dtype: int64"
            ]
          },
          "metadata": {},
          "execution_count": 74
        }
      ]
    },
    {
      "cell_type": "code",
      "metadata": {
        "colab": {
          "base_uri": "https://localhost:8080/",
          "height": 723
        },
        "id": "sCJHn0-twzsb",
        "outputId": "82a118a2-9ba9-4927-965c-1691d00a35bd"
      },
      "source": [
        "plt.figure(figsize=(20,10))\n",
        "plt.title(\"Season Champions\",fontweight='bold',fontsize=20)\n",
        "plt.xlabel('Teams',fontweight='bold',fontsize=30)\n",
        "plt.ylabel('Total Seasons',fontweight='bold',fontsize=20)\n",
        "plt.xticks(rotation='60')\n",
        "plt.tick_params(labelsize=10)\n",
        "sns.countplot(x=final_df['winner'],palette=['#F535AA','#BCC6CC','yellow','#461B7E','blue','#F87217']);"
      ],
      "execution_count": null,
      "outputs": [
        {
          "output_type": "display_data",
          "data": {
            "image/png": "[encoded data removed]",
            "text/plain": [
              "<Figure size 1440x720 with 1 Axes>"
            ]
          },
          "metadata": {
            "needs_background": "light"
          }
        }
      ]
    },
    {
      "cell_type": "code",
      "metadata": {
        "colab": {
          "base_uri": "https://localhost:8080/",
          "height": 206
        },
        "id": "QgoOEfhnw8S8",
        "outputId": "f0af568e-0beb-45ec-ee22-8bfd48926e79"
      },
      "source": [
        "#This we had Explored Earlier\n",
        "season_df"
      ],
      "execution_count": null,
      "outputs": [
        {
          "output_type": "execute_result",
          "data": {
            "text/html": [
              "<div>\n",
              "<style scoped>\n",
              "    .dataframe tbody tr th:only-of-type {\n",
              "        vertical-align: middle;\n",
              "    }\n",
              "\n",
              "    .dataframe tbody tr th {\n",
              "        vertical-align: top;\n",
              "    }\n",
              "\n",
              "    .dataframe thead th {\n",
              "        text-align: right;\n",
              "    }\n",
              "</style>\n",
              "<table border=\"1\" class=\"dataframe\">\n",
              "  <thead>\n",
              "    <tr style=\"text-align: right;\">\n",
              "      <th></th>\n",
              "      <th>Year</th>\n",
              "      <th>Matches</th>\n",
              "    </tr>\n",
              "  </thead>\n",
              "  <tbody>\n",
              "    <tr>\n",
              "      <th>0</th>\n",
              "      <td>2020</td>\n",
              "      <td>30</td>\n",
              "    </tr>\n",
              "    <tr>\n",
              "      <th>1</th>\n",
              "      <td>2019</td>\n",
              "      <td>15</td>\n",
              "    </tr>\n",
              "    <tr>\n",
              "      <th>2</th>\n",
              "      <td>2018</td>\n",
              "      <td>14</td>\n",
              "    </tr>\n",
              "    <tr>\n",
              "      <th>3</th>\n",
              "      <td>2017</td>\n",
              "      <td>16</td>\n",
              "    </tr>\n",
              "    <tr>\n",
              "      <th>4</th>\n",
              "      <td>2016</td>\n",
              "      <td>14</td>\n",
              "    </tr>\n",
              "  </tbody>\n",
              "</table>\n",
              "</div>"
            ],
            "text/plain": [
              "   Year  Matches\n",
              "0  2020       30\n",
              "1  2019       15\n",
              "2  2018       14\n",
              "3  2017       16\n",
              "4  2016       14"
            ]
          },
          "metadata": {},
          "execution_count": 76
        }
      ]
    },
    {
      "cell_type": "code",
      "metadata": {
        "colab": {
          "base_uri": "https://localhost:8080/",
          "height": 697
        },
        "id": "SAem12_-xCQd",
        "outputId": "cbbb4793-a719-480b-d2be-24d3c8d3d9ee"
      },
      "source": [
        "#To make it look more neat we will rotate the x-axis name with an angle of 60 using .xticks() method\n",
        "# Also will make the font bold and increase its size for readability\n",
        "plt.figure(figsize=(20,10))\n",
        "plt.title(\"Mathes Played In Each Season\",fontweight='bold',fontsize=30)\n",
        "plt.xlabel('season',fontweight='bold',fontsize=30)\n",
        "plt.ylabel('Total Matches',fontweight='bold',fontsize=30)\n",
        "plt.xticks(rotation='60')\n",
        "plt.tick_params(labelsize=20)\n",
        "plt.bar(season_df.Year,season_df.Matches,color=['#98AFC7','#6D7B8D']);"
      ],
      "execution_count": null,
      "outputs": [
        {
          "output_type": "display_data",
          "data": {
            "image/png": "[encoded data removed]",
            "text/plain": [
              "<Figure size 1440x720 with 1 Axes>"
            ]
          },
          "metadata": {
            "needs_background": "light"
          }
        }
      ]
    }
  ]
}
