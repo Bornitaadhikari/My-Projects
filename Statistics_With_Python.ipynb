{
  "nbformat": 4,
  "nbformat_minor": 0,
  "metadata": {
    "colab": {
      "provenance": [],
      "authorship_tag": "ABX9TyNLBoR0jSvJZ/WX8kKE6A0l",
      "include_colab_link": true
    },
    "kernelspec": {
      "name": "python3",
      "display_name": "Python 3"
    },
    "language_info": {
      "name": "python"
    }
  },
  "cells": [
    {
      "cell_type": "markdown",
      "metadata": {
        "id": "view-in-github",
        "colab_type": "text"
      },
      "source": [
        "<a href=\"https://colab.research.google.com/github/Bornitaadhikari/My-Projects/blob/main/Statistics_With_Python.ipynb\" target=\"_parent\"><img src=\"https://colab.research.google.com/assets/colab-badge.svg\" alt=\"Open In Colab\"/></a>"
      ]
    },
    {
      "cell_type": "code",
      "execution_count": 7,
      "metadata": {
        "id": "kQZnbsDaAHv4"
      },
      "outputs": [],
      "source": [
        "import math\n",
        "import statistics"
      ]
    },
    {
      "cell_type": "code",
      "source": [
        "numbers=[10,20,30,40,30,30,30,30,40,20,304,56,56]"
      ],
      "metadata": {
        "id": "vHRTxYZAAWzK"
      },
      "execution_count": 8,
      "outputs": []
    },
    {
      "cell_type": "code",
      "source": [
        "print(statistics.mean(numbers)) #mean"
      ],
      "metadata": {
        "colab": {
          "base_uri": "https://localhost:8080/"
        },
        "id": "nCZSBAjkAW2a",
        "outputId": "10a49034-3810-41ae-8ed0-b301b81efcb1"
      },
      "execution_count": 9,
      "outputs": [
        {
          "output_type": "stream",
          "name": "stdout",
          "text": [
            "53.53846153846154\n"
          ]
        }
      ]
    },
    {
      "cell_type": "code",
      "source": [
        "print(statistics.mode(numbers))  #mode"
      ],
      "metadata": {
        "colab": {
          "base_uri": "https://localhost:8080/"
        },
        "id": "jSt3VTTZA8Fe",
        "outputId": "426e27ed-2a2f-4a41-a75b-37c716dbee4f"
      },
      "execution_count": 10,
      "outputs": [
        {
          "output_type": "stream",
          "name": "stdout",
          "text": [
            "30\n"
          ]
        }
      ]
    },
    {
      "cell_type": "code",
      "source": [
        "print(statistics.median(numbers)) #median"
      ],
      "metadata": {
        "colab": {
          "base_uri": "https://localhost:8080/"
        },
        "id": "OrwNe0U2A8Hn",
        "outputId": "2f12fce4-e1d8-4a6b-a745-3952c447e28e"
      },
      "execution_count": 11,
      "outputs": [
        {
          "output_type": "stream",
          "name": "stdout",
          "text": [
            "30\n"
          ]
        }
      ]
    },
    {
      "cell_type": "code",
      "source": [
        "print(sum(numbers)/len(numbers)) # calculate mean manually"
      ],
      "metadata": {
        "colab": {
          "base_uri": "https://localhost:8080/"
        },
        "id": "u4ga5iNMAW56",
        "outputId": "352ba51f-d3b5-4492-8cb8-096e05441e46"
      },
      "execution_count": 12,
      "outputs": [
        {
          "output_type": "stream",
          "name": "stdout",
          "text": [
            "53.53846153846154\n"
          ]
        }
      ]
    },
    {
      "cell_type": "code",
      "source": [
        "if len(numbers) % 2 ==0:\n",
        "  print((numbers[len(numbers)//2]+numbers[len(numbers)//2-1])/2)  # calculate median manually\n",
        "else:\n",
        "  print(numbers[len(numbers)//2])\n"
      ],
      "metadata": {
        "colab": {
          "base_uri": "https://localhost:8080/"
        },
        "id": "WgT6WOnCAW_0",
        "outputId": "b8c63327-a2b5-4b61-ba8f-03a3bd71efa1"
      },
      "execution_count": 14,
      "outputs": [
        {
          "output_type": "stream",
          "name": "stdout",
          "text": [
            "30\n"
          ]
        }
      ]
    },
    {
      "cell_type": "code",
      "source": [
        "print(max(set(numbers),key=numbers.count)) #calculate mode malually"
      ],
      "metadata": {
        "colab": {
          "base_uri": "https://localhost:8080/"
        },
        "id": "HGbCHlUaAXER",
        "outputId": "c3f23c9f-eb54-45d7-9ce4-efa780ec3a9a"
      },
      "execution_count": 15,
      "outputs": [
        {
          "output_type": "stream",
          "name": "stdout",
          "text": [
            "30\n"
          ]
        }
      ]
    },
    {
      "cell_type": "code",
      "source": [
        "number1=[1,2,0,2000,3000,4000]\n",
        "number2=[85000,56003,53002,4500]"
      ],
      "metadata": {
        "id": "N8aAhF7eAXHL"
      },
      "execution_count": 17,
      "outputs": []
    },
    {
      "cell_type": "code",
      "source": [
        "print(statistics.mean(number1))\n",
        "print(statistics.mean(number2))\n"
      ],
      "metadata": {
        "colab": {
          "base_uri": "https://localhost:8080/"
        },
        "id": "pPxjZNKIEWIe",
        "outputId": "4f9c9caf-5e65-4953-fbcb-09f49f3a59b1"
      },
      "execution_count": 18,
      "outputs": [
        {
          "output_type": "stream",
          "name": "stdout",
          "text": [
            "1500.5\n",
            "49626.25\n"
          ]
        }
      ]
    },
    {
      "cell_type": "code",
      "source": [
        "print(statistics.median(number1))\n",
        "print(statistics.median(number2))"
      ],
      "metadata": {
        "colab": {
          "base_uri": "https://localhost:8080/"
        },
        "id": "gpKEW-xXEWLq",
        "outputId": "dafb76ff-2434-4e28-d224-878c91830f3f"
      },
      "execution_count": 19,
      "outputs": [
        {
          "output_type": "stream",
          "name": "stdout",
          "text": [
            "1001.0\n",
            "1001.0\n"
          ]
        }
      ]
    },
    {
      "cell_type": "code",
      "source": [
        "print(statistics.mode(number1))\n",
        "print(statistics.mode(number2))"
      ],
      "metadata": {
        "colab": {
          "base_uri": "https://localhost:8080/"
        },
        "id": "1CpmGwEgEWO8",
        "outputId": "e6678be6-a9d5-465f-9c8e-fbc70a7ed859"
      },
      "execution_count": 20,
      "outputs": [
        {
          "output_type": "stream",
          "name": "stdout",
          "text": [
            "1\n",
            "1\n"
          ]
        }
      ]
    },
    {
      "cell_type": "code",
      "source": [
        "print(statistics.stdev(number1))\n",
        "print(statistics.variance(number1))\n",
        "print(statistics.pstdev(number1))"
      ],
      "metadata": {
        "colab": {
          "base_uri": "https://localhost:8080/"
        },
        "id": "4h-WnkOgG-IC",
        "outputId": "a335ff2d-acf7-461f-b61e-69fca933ac1c"
      },
      "execution_count": 24,
      "outputs": [
        {
          "output_type": "stream",
          "name": "stdout",
          "text": [
            "1760.1706451364312\n",
            "3098200.7\n",
            "1606.8086123327403\n"
          ]
        }
      ]
    },
    {
      "cell_type": "code",
      "source": [
        "print(statistics.stdev(number2))\n",
        "print(statistics.variance(number2))\n",
        "print(statistics.pstdev(number2))"
      ],
      "metadata": {
        "colab": {
          "base_uri": "https://localhost:8080/"
        },
        "id": "9nTn4M9uG-J4",
        "outputId": "cf6c0574-4ae9-4cec-d008-4d40cbc3ab68"
      },
      "execution_count": 25,
      "outputs": [
        {
          "output_type": "stream",
          "name": "stdout",
          "text": [
            "33365.34757673996\n",
            "1113246418.9166667\n",
            "28895.238607554358\n"
          ]
        }
      ]
    },
    {
      "cell_type": "code",
      "source": [],
      "metadata": {
        "id": "H4KiFmgNG-OB"
      },
      "execution_count": null,
      "outputs": []
    },
    {
      "cell_type": "code",
      "source": [],
      "metadata": {
        "id": "kcHqALBxG-Pr"
      },
      "execution_count": null,
      "outputs": []
    },
    {
      "cell_type": "code",
      "source": [],
      "metadata": {
        "id": "1EaHy0jmG-UT"
      },
      "execution_count": null,
      "outputs": []
    }
  ]
}